{
  "nbformat": 4,
  "nbformat_minor": 0,
  "metadata": {
    "colab": {
      "name": "LSDS Intro Course - Sprint Challenge 1",
      "version": "0.3.2",
      "provenance": [],
      "collapsed_sections": []
    },
    "kernelspec": {
      "name": "python3",
      "display_name": "Python 3"
    }
  },
  "cells": [
    {
      "metadata": {
        "id": "pMXmyoxWQjkQ",
        "colab_type": "text"
      },
      "cell_type": "markdown",
      "source": [
        "# 1) Python\n",
        "\n",
        "Write a function that will be passed an integer value. Your function should sum up all the positive integers that are less than or equal to the passed in value. For example, if the number 5 were passed to the function, the function should return 15 because 5+4+3+2+1 = 15. If it were passed 7 it should return 28 because 7+6+5+4+3+2+1 = 28.\n",
        "\n",
        "You can name your function whatever you like. In order to verify what the function is returning, call your function and pass it an integer of your choosing.\n",
        "\n",
        "The following test-cases should all pass: \n",
        "\n",
        "yourFunction(0) => 0\n",
        "\n",
        "yourFunction(1) => 1\n",
        "\n",
        "yourFunction(2) => 3\n",
        "\n",
        "yourFunction(3) => 6\n",
        "\n",
        "yourFunction(4) => 10\n",
        "\n",
        "yourFunction(5) => 15\n"
      ]
    },
    {
      "metadata": {
        "id": "ST5b9zT_QT8e",
        "colab_type": "code",
        "colab": {}
      },
      "cell_type": "code",
      "source": [
        "##### Your Code Here #####\n",
        "\n",
        "def sum_of_less_than(num):\n",
        "  num += 1\n",
        "  add = []\n",
        "  for i in range(num):\n",
        "    add.append(i)\n",
        "    add.reverse()\n",
        "  return sum(add)\n",
        "    "
      ],
      "execution_count": 0,
      "outputs": []
    },
    {
      "metadata": {
        "id": "F4U6aMFEkeb1",
        "colab_type": "code",
        "outputId": "54a52159-1a85-4205-9c1d-f92ef593f7a5",
        "colab": {
          "base_uri": "https://localhost:8080/",
          "height": 34
        }
      },
      "cell_type": "code",
      "source": [
        "check = sum_of_less_than(0)\n",
        "print(check)"
      ],
      "execution_count": 0,
      "outputs": [
        {
          "output_type": "stream",
          "text": [
            "0\n"
          ],
          "name": "stdout"
        }
      ]
    },
    {
      "metadata": {
        "id": "ugaT5OYqQjxx",
        "colab_type": "text"
      },
      "cell_type": "markdown",
      "source": [
        "#2) Data Exploration\n",
        "\n",
        "- Import Pandas\n",
        "- Read the CSV found at this URL into a pandas dataframe: \n",
        "    [NFL Plays Dataset](https://raw.githubusercontent.com/ryanleeallred/datasets/master/NFL-Plays-Small.csv)\n",
        "- Output the size of the dataframe\n",
        "- Output the first 5 rows of the dataframe\n",
        "- Find the number of missing values in each column\n",
        "- Fill the NaN (missing) values using [pandas.DataFrame.fillna()](https://pandas.pydata.org/pandas-docs/stable/generated/pandas.DataFrame.fillna.html)\n",
        "- Create a scatterplot using the 'ydstogo' and 'Drive' variables\n",
        "\n",
        "Feel free to add extra text and code cells as necesary."
      ]
    },
    {
      "metadata": {
        "id": "Galp-XM-Q-hp",
        "colab_type": "code",
        "colab": {}
      },
      "cell_type": "code",
      "source": [
        "##### Your Code Here #####\n",
        "import pandas as pd"
      ],
      "execution_count": 0,
      "outputs": []
    },
    {
      "metadata": {
        "id": "PZvqHyqdtWCe",
        "colab_type": "code",
        "colab": {}
      },
      "cell_type": "code",
      "source": [
        "#read the data into pandas\n",
        "nfl = pd.read_csv(\"https://raw.githubusercontent.com/ryanleeallred/datasets/master/NFL-Plays-Small.csv\")\n"
      ],
      "execution_count": 0,
      "outputs": []
    },
    {
      "metadata": {
        "id": "cbU75_uXt2hs",
        "colab_type": "code",
        "outputId": "12b934b5-b60c-44f2-fa78-b18b774696c0",
        "colab": {
          "base_uri": "https://localhost:8080/",
          "height": 34
        }
      },
      "cell_type": "code",
      "source": [
        "#size of the dataframe\n",
        "nfl.shape"
      ],
      "execution_count": 0,
      "outputs": [
        {
          "output_type": "execute_result",
          "data": {
            "text/plain": [
              "(10000, 13)"
            ]
          },
          "metadata": {
            "tags": []
          },
          "execution_count": 46
        }
      ]
    },
    {
      "metadata": {
        "id": "yOAGTT7auId0",
        "colab_type": "code",
        "outputId": "ca901e71-c8a3-4e4d-ca38-4595b493c789",
        "colab": {
          "base_uri": "https://localhost:8080/",
          "height": 224
        }
      },
      "cell_type": "code",
      "source": [
        "#output the first five rows of the dataframe\n",
        "nfl.head()"
      ],
      "execution_count": 0,
      "outputs": [
        {
          "output_type": "execute_result",
          "data": {
            "text/html": [
              "<div>\n",
              "<style scoped>\n",
              "    .dataframe tbody tr th:only-of-type {\n",
              "        vertical-align: middle;\n",
              "    }\n",
              "\n",
              "    .dataframe tbody tr th {\n",
              "        vertical-align: top;\n",
              "    }\n",
              "\n",
              "    .dataframe thead th {\n",
              "        text-align: right;\n",
              "    }\n",
              "</style>\n",
              "<table border=\"1\" class=\"dataframe\">\n",
              "  <thead>\n",
              "    <tr style=\"text-align: right;\">\n",
              "      <th></th>\n",
              "      <th>GameID</th>\n",
              "      <th>Drive</th>\n",
              "      <th>qtr</th>\n",
              "      <th>down</th>\n",
              "      <th>time</th>\n",
              "      <th>yrdline100</th>\n",
              "      <th>ydstogo</th>\n",
              "      <th>posteam</th>\n",
              "      <th>DefensiveTeam</th>\n",
              "      <th>Yards.Gained</th>\n",
              "      <th>Touchdown</th>\n",
              "      <th>PlayType</th>\n",
              "      <th>Season</th>\n",
              "    </tr>\n",
              "  </thead>\n",
              "  <tbody>\n",
              "    <tr>\n",
              "      <th>0</th>\n",
              "      <td>2014122806</td>\n",
              "      <td>9</td>\n",
              "      <td>3</td>\n",
              "      <td>1.0</td>\n",
              "      <td>14:57</td>\n",
              "      <td>65.0</td>\n",
              "      <td>10</td>\n",
              "      <td>MIN</td>\n",
              "      <td>CHI</td>\n",
              "      <td>0</td>\n",
              "      <td>0</td>\n",
              "      <td>Pass</td>\n",
              "      <td>2014</td>\n",
              "    </tr>\n",
              "    <tr>\n",
              "      <th>1</th>\n",
              "      <td>2014110600</td>\n",
              "      <td>15</td>\n",
              "      <td>3</td>\n",
              "      <td>1.0</td>\n",
              "      <td>15:00</td>\n",
              "      <td>80.0</td>\n",
              "      <td>10</td>\n",
              "      <td>CLE</td>\n",
              "      <td>CIN</td>\n",
              "      <td>0</td>\n",
              "      <td>0</td>\n",
              "      <td>Run</td>\n",
              "      <td>2014</td>\n",
              "    </tr>\n",
              "    <tr>\n",
              "      <th>2</th>\n",
              "      <td>2013091501</td>\n",
              "      <td>22</td>\n",
              "      <td>4</td>\n",
              "      <td>4.0</td>\n",
              "      <td>07:24</td>\n",
              "      <td>51.0</td>\n",
              "      <td>6</td>\n",
              "      <td>CLE</td>\n",
              "      <td>BAL</td>\n",
              "      <td>0</td>\n",
              "      <td>0</td>\n",
              "      <td>Punt</td>\n",
              "      <td>2013</td>\n",
              "    </tr>\n",
              "    <tr>\n",
              "      <th>3</th>\n",
              "      <td>2017010108</td>\n",
              "      <td>19</td>\n",
              "      <td>3</td>\n",
              "      <td>2.0</td>\n",
              "      <td>01:41</td>\n",
              "      <td>50.0</td>\n",
              "      <td>2</td>\n",
              "      <td>PIT</td>\n",
              "      <td>CLE</td>\n",
              "      <td>9</td>\n",
              "      <td>0</td>\n",
              "      <td>Pass</td>\n",
              "      <td>2016</td>\n",
              "    </tr>\n",
              "    <tr>\n",
              "      <th>4</th>\n",
              "      <td>2017101504</td>\n",
              "      <td>29</td>\n",
              "      <td>4</td>\n",
              "      <td>1.0</td>\n",
              "      <td>04:58</td>\n",
              "      <td>69.0</td>\n",
              "      <td>10</td>\n",
              "      <td>DET</td>\n",
              "      <td>NO</td>\n",
              "      <td>0</td>\n",
              "      <td>0</td>\n",
              "      <td>No Play</td>\n",
              "      <td>2017</td>\n",
              "    </tr>\n",
              "  </tbody>\n",
              "</table>\n",
              "</div>"
            ],
            "text/plain": [
              "       GameID  Drive  qtr  down   time  yrdline100  ydstogo posteam  \\\n",
              "0  2014122806      9    3   1.0  14:57        65.0       10     MIN   \n",
              "1  2014110600     15    3   1.0  15:00        80.0       10     CLE   \n",
              "2  2013091501     22    4   4.0  07:24        51.0        6     CLE   \n",
              "3  2017010108     19    3   2.0  01:41        50.0        2     PIT   \n",
              "4  2017101504     29    4   1.0  04:58        69.0       10     DET   \n",
              "\n",
              "  DefensiveTeam  Yards.Gained  Touchdown PlayType  Season  \n",
              "0           CHI             0          0     Pass    2014  \n",
              "1           CIN             0          0      Run    2014  \n",
              "2           BAL             0          0     Punt    2013  \n",
              "3           CLE             9          0     Pass    2016  \n",
              "4            NO             0          0  No Play    2017  "
            ]
          },
          "metadata": {
            "tags": []
          },
          "execution_count": 47
        }
      ]
    },
    {
      "metadata": {
        "id": "KvB_DtLF2Yjh",
        "colab_type": "code",
        "outputId": "6bf95f4b-e46e-4812-b0a9-b2180fb4095a",
        "colab": {
          "base_uri": "https://localhost:8080/",
          "height": 85
        }
      },
      "cell_type": "code",
      "source": [
        "nfl.columns"
      ],
      "execution_count": 0,
      "outputs": [
        {
          "output_type": "execute_result",
          "data": {
            "text/plain": [
              "Index(['GameID', 'Drive', 'qtr', 'down', 'time', 'yrdline100', 'ydstogo',\n",
              "       'posteam', 'DefensiveTeam', 'Yards.Gained', 'Touchdown', 'PlayType',\n",
              "       'Season'],\n",
              "      dtype='object')"
            ]
          },
          "metadata": {
            "tags": []
          },
          "execution_count": 51
        }
      ]
    },
    {
      "metadata": {
        "id": "k94kGpkN7vrj",
        "colab_type": "text"
      },
      "cell_type": "markdown",
      "source": [
        "Rename columns to snakecase; more pythonic"
      ]
    },
    {
      "metadata": {
        "id": "mBWJi2MH2o_k",
        "colab_type": "code",
        "colab": {}
      },
      "cell_type": "code",
      "source": [
        "new_name ={'GameID': 'game_id', 'Drive': 'drive', 'qtr':'qtr', 'down':'down', 'time':'time', 'yrdline100':'yrd_line100', 'ydstogo':'yrds_togo',\n",
        "       'posteam':'posteam', 'DefensiveTeam':'defensive_team', 'Yards.Gained':'yrds_gained', 'Touchdown':'touch_down', 'PlayType':'play_type',\n",
        "       'Season':'season'}"
      ],
      "execution_count": 0,
      "outputs": []
    },
    {
      "metadata": {
        "id": "NLoz6RGK4j4g",
        "colab_type": "code",
        "colab": {}
      },
      "cell_type": "code",
      "source": [
        "nfl.rename(columns=new_name, inplace=True)"
      ],
      "execution_count": 0,
      "outputs": []
    },
    {
      "metadata": {
        "id": "HtMX3XFC7ZPX",
        "colab_type": "code",
        "outputId": "bb9b3dcb-922a-4f86-a3f4-07f99c17be05",
        "colab": {
          "base_uri": "https://localhost:8080/",
          "height": 224
        }
      },
      "cell_type": "code",
      "source": [
        "nfl.tail()"
      ],
      "execution_count": 0,
      "outputs": [
        {
          "output_type": "execute_result",
          "data": {
            "text/html": [
              "<div>\n",
              "<style scoped>\n",
              "    .dataframe tbody tr th:only-of-type {\n",
              "        vertical-align: middle;\n",
              "    }\n",
              "\n",
              "    .dataframe tbody tr th {\n",
              "        vertical-align: top;\n",
              "    }\n",
              "\n",
              "    .dataframe thead th {\n",
              "        text-align: right;\n",
              "    }\n",
              "</style>\n",
              "<table border=\"1\" class=\"dataframe\">\n",
              "  <thead>\n",
              "    <tr style=\"text-align: right;\">\n",
              "      <th></th>\n",
              "      <th>game_id</th>\n",
              "      <th>drive</th>\n",
              "      <th>qtr</th>\n",
              "      <th>down</th>\n",
              "      <th>time</th>\n",
              "      <th>yrd_line100</th>\n",
              "      <th>yrds_togo</th>\n",
              "      <th>posteam</th>\n",
              "      <th>defensive_team</th>\n",
              "      <th>yrds_gained</th>\n",
              "      <th>touch_down</th>\n",
              "      <th>play_type</th>\n",
              "      <th>season</th>\n",
              "    </tr>\n",
              "  </thead>\n",
              "  <tbody>\n",
              "    <tr>\n",
              "      <th>9995</th>\n",
              "      <td>2016120406</td>\n",
              "      <td>15</td>\n",
              "      <td>3</td>\n",
              "      <td>4.0</td>\n",
              "      <td>07:56</td>\n",
              "      <td>26.0</td>\n",
              "      <td>3</td>\n",
              "      <td>LA</td>\n",
              "      <td>NE</td>\n",
              "      <td>0</td>\n",
              "      <td>0</td>\n",
              "      <td>Field Goal</td>\n",
              "      <td>2016</td>\n",
              "    </tr>\n",
              "    <tr>\n",
              "      <th>9996</th>\n",
              "      <td>2016091105</td>\n",
              "      <td>20</td>\n",
              "      <td>4</td>\n",
              "      <td>1.0</td>\n",
              "      <td>08:20</td>\n",
              "      <td>84.0</td>\n",
              "      <td>10</td>\n",
              "      <td>NO</td>\n",
              "      <td>OAK</td>\n",
              "      <td>0</td>\n",
              "      <td>0</td>\n",
              "      <td>No Play</td>\n",
              "      <td>2016</td>\n",
              "    </tr>\n",
              "    <tr>\n",
              "      <th>9997</th>\n",
              "      <td>2016100910</td>\n",
              "      <td>15</td>\n",
              "      <td>3</td>\n",
              "      <td>2.0</td>\n",
              "      <td>08:09</td>\n",
              "      <td>39.0</td>\n",
              "      <td>2</td>\n",
              "      <td>OAK</td>\n",
              "      <td>SD</td>\n",
              "      <td>0</td>\n",
              "      <td>0</td>\n",
              "      <td>No Play</td>\n",
              "      <td>2016</td>\n",
              "    </tr>\n",
              "    <tr>\n",
              "      <th>9998</th>\n",
              "      <td>2012121000</td>\n",
              "      <td>12</td>\n",
              "      <td>2</td>\n",
              "      <td>3.0</td>\n",
              "      <td>00:55</td>\n",
              "      <td>55.0</td>\n",
              "      <td>3</td>\n",
              "      <td>NE</td>\n",
              "      <td>HOU</td>\n",
              "      <td>0</td>\n",
              "      <td>0</td>\n",
              "      <td>Pass</td>\n",
              "      <td>2012</td>\n",
              "    </tr>\n",
              "    <tr>\n",
              "      <th>9999</th>\n",
              "      <td>2011112000</td>\n",
              "      <td>7</td>\n",
              "      <td>2</td>\n",
              "      <td>2.0</td>\n",
              "      <td>05:59</td>\n",
              "      <td>33.0</td>\n",
              "      <td>7</td>\n",
              "      <td>MIN</td>\n",
              "      <td>OAK</td>\n",
              "      <td>4</td>\n",
              "      <td>0</td>\n",
              "      <td>Pass</td>\n",
              "      <td>2011</td>\n",
              "    </tr>\n",
              "  </tbody>\n",
              "</table>\n",
              "</div>"
            ],
            "text/plain": [
              "         game_id  drive  qtr  down   time  yrd_line100  yrds_togo posteam  \\\n",
              "9995  2016120406     15    3   4.0  07:56         26.0          3      LA   \n",
              "9996  2016091105     20    4   1.0  08:20         84.0         10      NO   \n",
              "9997  2016100910     15    3   2.0  08:09         39.0          2     OAK   \n",
              "9998  2012121000     12    2   3.0  00:55         55.0          3      NE   \n",
              "9999  2011112000      7    2   2.0  05:59         33.0          7     MIN   \n",
              "\n",
              "     defensive_team  yrds_gained  touch_down   play_type  season  \n",
              "9995             NE            0           0  Field Goal    2016  \n",
              "9996            OAK            0           0     No Play    2016  \n",
              "9997             SD            0           0     No Play    2016  \n",
              "9998            HOU            0           0        Pass    2012  \n",
              "9999            OAK            4           0        Pass    2011  "
            ]
          },
          "metadata": {
            "tags": []
          },
          "execution_count": 59
        }
      ]
    },
    {
      "metadata": {
        "id": "zBSGIegYuk3g",
        "colab_type": "code",
        "outputId": "d57c8bce-12f2-4c80-f3e3-f7f69cbb33db",
        "colab": {
          "base_uri": "https://localhost:8080/",
          "height": 255
        }
      },
      "cell_type": "code",
      "source": [
        "#show the number of missing values per column\n",
        "nfl.isnull().sum()"
      ],
      "execution_count": 0,
      "outputs": [
        {
          "output_type": "execute_result",
          "data": {
            "text/plain": [
              "game_id              0\n",
              "drive                0\n",
              "qtr                  0\n",
              "down              1495\n",
              "time                 4\n",
              "yrd_line100         16\n",
              "yrds_togo            0\n",
              "posteam            624\n",
              "defensive_team     624\n",
              "yrds_gained          0\n",
              "touch_down           0\n",
              "play_type            0\n",
              "season               0\n",
              "dtype: int64"
            ]
          },
          "metadata": {
            "tags": []
          },
          "execution_count": 60
        }
      ]
    },
    {
      "metadata": {
        "id": "qIe2HkOBwBbk",
        "colab_type": "code",
        "outputId": "dd92c0f3-1cbb-480e-d6d0-89861bde4b49",
        "colab": {
          "base_uri": "https://localhost:8080/",
          "height": 119
        }
      },
      "cell_type": "code",
      "source": [
        "nfl['posteam'].value_counts(dropna=False).head()"
      ],
      "execution_count": 0,
      "outputs": [
        {
          "output_type": "execute_result",
          "data": {
            "text/plain": [
              "NaN    624\n",
              "DET    332\n",
              "IND    317\n",
              "BAL    315\n",
              "NE     312\n",
              "Name: posteam, dtype: int64"
            ]
          },
          "metadata": {
            "tags": []
          },
          "execution_count": 73
        }
      ]
    },
    {
      "metadata": {
        "id": "8BVJK19D8u_U",
        "colab_type": "code",
        "outputId": "6f76309e-3fe3-4429-970a-fafc0d3d6895",
        "colab": {
          "base_uri": "https://localhost:8080/",
          "height": 119
        }
      },
      "cell_type": "code",
      "source": [
        "nfl['defensive_team'].value_counts(dropna= False).head()"
      ],
      "execution_count": 0,
      "outputs": [
        {
          "output_type": "execute_result",
          "data": {
            "text/plain": [
              "NaN    624\n",
              "CHI    326\n",
              "TB     316\n",
              "BAL    315\n",
              "NYJ    314\n",
              "Name: defensive_team, dtype: int64"
            ]
          },
          "metadata": {
            "tags": []
          },
          "execution_count": 74
        }
      ]
    },
    {
      "metadata": {
        "id": "u-zpp68i_CAm",
        "colab_type": "code",
        "outputId": "61f2aac3-e887-4517-ad00-abc0e8777aed",
        "colab": {
          "base_uri": "https://localhost:8080/",
          "height": 119
        }
      },
      "cell_type": "code",
      "source": [
        "nfl['yrd_line100'].value_counts().head()"
      ],
      "execution_count": 0,
      "outputs": [
        {
          "output_type": "execute_result",
          "data": {
            "text/plain": [
              "35.0    535\n",
              "80.0    371\n",
              "75.0    237\n",
              "2.0     228\n",
              "30.0    219\n",
              "Name: yrd_line100, dtype: int64"
            ]
          },
          "metadata": {
            "tags": []
          },
          "execution_count": 71
        }
      ]
    },
    {
      "metadata": {
        "id": "Y-EDK-qw8jlm",
        "colab_type": "text"
      },
      "cell_type": "markdown",
      "source": [
        "Replace  categorical columns with the most common team and numerical colums with the mean of values of the respective column."
      ]
    },
    {
      "metadata": {
        "id": "9Br-VNmB1k-9",
        "colab_type": "code",
        "colab": {}
      },
      "cell_type": "code",
      "source": [
        "nfl.fillna({'posteam':'DET', 'defensive_team':'CHI', 'yrd_line100':nfl.yrd_line100.mean(), 'down':nfl.down.mean()}, inplace=True)"
      ],
      "execution_count": 0,
      "outputs": []
    },
    {
      "metadata": {
        "id": "gDhfqNdCERCi",
        "colab_type": "text"
      },
      "cell_type": "markdown",
      "source": [
        "Replace time with ffill method"
      ]
    },
    {
      "metadata": {
        "id": "Vfy6FRHhENhz",
        "colab_type": "code",
        "colab": {}
      },
      "cell_type": "code",
      "source": [
        "nfl.fillna(method='ffill', inplace=True)"
      ],
      "execution_count": 0,
      "outputs": []
    },
    {
      "metadata": {
        "id": "4fHI1DZAE1Et",
        "colab_type": "code",
        "outputId": "d3b48fcf-df58-4de6-8026-7c173d1687f6",
        "colab": {
          "base_uri": "https://localhost:8080/",
          "height": 255
        }
      },
      "cell_type": "code",
      "source": [
        "nfl.isnull().sum()"
      ],
      "execution_count": 0,
      "outputs": [
        {
          "output_type": "execute_result",
          "data": {
            "text/plain": [
              "game_id           0\n",
              "drive             0\n",
              "qtr               0\n",
              "down              0\n",
              "time              0\n",
              "yrd_line100       0\n",
              "yrds_togo         0\n",
              "posteam           0\n",
              "defensive_team    0\n",
              "yrds_gained       0\n",
              "touch_down        0\n",
              "play_type         0\n",
              "season            0\n",
              "dtype: int64"
            ]
          },
          "metadata": {
            "tags": []
          },
          "execution_count": 80
        }
      ]
    },
    {
      "metadata": {
        "id": "xA7c7z_IUDDx",
        "colab_type": "text"
      },
      "cell_type": "markdown",
      "source": [
        "scatter plot of yrds_togo and drive"
      ]
    },
    {
      "metadata": {
        "id": "J-o6CjyVFGXp",
        "colab_type": "code",
        "colab": {}
      },
      "cell_type": "code",
      "source": [
        "import matplotlib.pyplot as plt"
      ],
      "execution_count": 0,
      "outputs": []
    },
    {
      "metadata": {
        "id": "0quPEXmZFTqm",
        "colab_type": "code",
        "outputId": "e2b81878-f234-441b-889e-f652896e7379",
        "colab": {
          "base_uri": "https://localhost:8080/",
          "height": 361
        }
      },
      "cell_type": "code",
      "source": [
        "plt.scatter(x=nfl['yrds_togo'], y=nfl['drive'])\n",
        "plt.xlabel('Yards togo')\n",
        "plt.ylabel('Drives')\n",
        "plt.show()"
      ],
      "execution_count": 0,
      "outputs": [
        {
          "output_type": "display_data",
          "data": {
            "image/png": "[encoded data removed]",
            "text/plain": [
              "<matplotlib.figure.Figure at 0x7ff1f2521390>"
            ]
          },
          "metadata": {
            "tags": []
          }
        }
      ]
    },
    {
      "metadata": {
        "id": "Ssj2xa77Qj0i",
        "colab_type": "text"
      },
      "cell_type": "markdown",
      "source": [
        "# 3) Statistics\n",
        "\n",
        "- Calculate the Mean, Median, and Mode of the \"Drives\" column \n",
        "- Create a histogram to show the distribution of the \"Drives\" column.\n",
        "\n",
        "Feel free to add extra text and code cells as necesary."
      ]
    },
    {
      "metadata": {
        "id": "umDPCBdhHuNg",
        "colab_type": "text"
      },
      "cell_type": "markdown",
      "source": [
        "mean of column drive"
      ]
    },
    {
      "metadata": {
        "id": "DpWeRifPQ-6t",
        "colab_type": "code",
        "outputId": "4f3e2abc-0a4f-4ef1-d3d8-b1df5ce3a0c9",
        "colab": {
          "base_uri": "https://localhost:8080/",
          "height": 34
        }
      },
      "cell_type": "code",
      "source": [
        "##### Your Code Here #####\n",
        "nfl.drive.mean()"
      ],
      "execution_count": 0,
      "outputs": [
        {
          "output_type": "execute_result",
          "data": {
            "text/plain": [
              "12.3851"
            ]
          },
          "metadata": {
            "tags": []
          },
          "execution_count": 86
        }
      ]
    },
    {
      "metadata": {
        "id": "8mYpnSMQHksQ",
        "colab_type": "text"
      },
      "cell_type": "markdown",
      "source": [
        "mode of column 'drive'"
      ]
    },
    {
      "metadata": {
        "id": "uPJxxxLyHLxQ",
        "colab_type": "code",
        "outputId": "e59db75c-2820-4c3c-add5-53c160d53be6",
        "colab": {
          "base_uri": "https://localhost:8080/",
          "height": 51
        }
      },
      "cell_type": "code",
      "source": [
        "nfl.drive.mode()"
      ],
      "execution_count": 0,
      "outputs": [
        {
          "output_type": "execute_result",
          "data": {
            "text/plain": [
              "0    1\n",
              "dtype: int64"
            ]
          },
          "metadata": {
            "tags": []
          },
          "execution_count": 87
        }
      ]
    },
    {
      "metadata": {
        "id": "BAgbH9JMHYmQ",
        "colab_type": "text"
      },
      "cell_type": "markdown",
      "source": [
        "median of column drive"
      ]
    },
    {
      "metadata": {
        "id": "SLxmXwqlHTVV",
        "colab_type": "code",
        "outputId": "78f0b649-336b-4b4f-923f-b0e35daa59be",
        "colab": {
          "base_uri": "https://localhost:8080/",
          "height": 34
        }
      },
      "cell_type": "code",
      "source": [
        "nfl.drive.median()"
      ],
      "execution_count": 0,
      "outputs": [
        {
          "output_type": "execute_result",
          "data": {
            "text/plain": [
              "12.0"
            ]
          },
          "metadata": {
            "tags": []
          },
          "execution_count": 88
        }
      ]
    },
    {
      "metadata": {
        "id": "SP4aETjYH602",
        "colab_type": "text"
      },
      "cell_type": "markdown",
      "source": [
        "Histogram depicting the distribution of column 'drive'"
      ]
    },
    {
      "metadata": {
        "id": "uNGYPB4iH5Ym",
        "colab_type": "code",
        "outputId": "9e25c678-5d05-4161-a38a-b7e5b711adf3",
        "colab": {
          "base_uri": "https://localhost:8080/",
          "height": 347
        }
      },
      "cell_type": "code",
      "source": [
        "plt.hist(nfl['drive']);"
      ],
      "execution_count": 0,
      "outputs": [
        {
          "output_type": "display_data",
          "data": {
            "image/png": "[encoded data removed]",
            "text/plain": [
              "<matplotlib.figure.Figure at 0x7ff1f25f6470>"
            ]
          },
          "metadata": {
            "tags": []
          }
        }
      ]
    },
    {
      "metadata": {
        "id": "7kvrIrc9Qj3D",
        "colab_type": "text"
      },
      "cell_type": "markdown",
      "source": [
        "#4) Hypothesis Testing\n",
        "\n",
        "- Print the summary statistics of the dataset using the [.describe()](https://pandas.pydata.org/pandas-docs/stable/generated/pandas.DataFrame.describe.html) function (This should help you check the work you did above)\n",
        "- Use a method other than the .describe() function to calculate the standard deviation of the \"Drive\" column.\n",
        "- How many standard deviations away from the mean is a value of 20 Drives?\n",
        "- What would be the corresponding standard score (z-score) for a value of 20 Drives? \n",
        "\n",
        "Feel free to add extra text and code cells as necesary."
      ]
    },
    {
      "metadata": {
        "id": "XnQBEdZ8Q_bj",
        "colab_type": "code",
        "colab": {}
      },
      "cell_type": "code",
      "source": [
        "##### Your Code Here #####"
      ],
      "execution_count": 0,
      "outputs": []
    },
    {
      "metadata": {
        "id": "1ZTYYJzaIeXz",
        "colab_type": "code",
        "outputId": "92937ec6-e1b1-494b-e2bb-a19894817bd6",
        "colab": {
          "base_uri": "https://localhost:8080/",
          "height": 297
        }
      },
      "cell_type": "code",
      "source": [
        "#summary statistics\n",
        "nfl.describe()"
      ],
      "execution_count": 0,
      "outputs": [
        {
          "output_type": "execute_result",
          "data": {
            "text/html": [
              "<div>\n",
              "<style scoped>\n",
              "    .dataframe tbody tr th:only-of-type {\n",
              "        vertical-align: middle;\n",
              "    }\n",
              "\n",
              "    .dataframe tbody tr th {\n",
              "        vertical-align: top;\n",
              "    }\n",
              "\n",
              "    .dataframe thead th {\n",
              "        text-align: right;\n",
              "    }\n",
              "</style>\n",
              "<table border=\"1\" class=\"dataframe\">\n",
              "  <thead>\n",
              "    <tr style=\"text-align: right;\">\n",
              "      <th></th>\n",
              "      <th>game_id</th>\n",
              "      <th>drive</th>\n",
              "      <th>qtr</th>\n",
              "      <th>down</th>\n",
              "      <th>yrd_line100</th>\n",
              "      <th>yrds_togo</th>\n",
              "      <th>yrds_gained</th>\n",
              "      <th>touch_down</th>\n",
              "      <th>season</th>\n",
              "    </tr>\n",
              "  </thead>\n",
              "  <tbody>\n",
              "    <tr>\n",
              "      <th>count</th>\n",
              "      <td>1.000000e+04</td>\n",
              "      <td>10000.000000</td>\n",
              "      <td>10000.000000</td>\n",
              "      <td>10000.000000</td>\n",
              "      <td>10000.000000</td>\n",
              "      <td>10000.000000</td>\n",
              "      <td>10000.000000</td>\n",
              "      <td>10000.000000</td>\n",
              "      <td>10000.000000</td>\n",
              "    </tr>\n",
              "    <tr>\n",
              "      <th>mean</th>\n",
              "      <td>2.013197e+09</td>\n",
              "      <td>12.385100</td>\n",
              "      <td>2.574800</td>\n",
              "      <td>2.001764</td>\n",
              "      <td>48.762520</td>\n",
              "      <td>7.329600</td>\n",
              "      <td>4.814000</td>\n",
              "      <td>0.027400</td>\n",
              "      <td>2013.057700</td>\n",
              "    </tr>\n",
              "    <tr>\n",
              "      <th>std</th>\n",
              "      <td>2.573354e+06</td>\n",
              "      <td>7.257194</td>\n",
              "      <td>1.141111</td>\n",
              "      <td>0.920859</td>\n",
              "      <td>25.015031</td>\n",
              "      <td>4.873514</td>\n",
              "      <td>8.761819</td>\n",
              "      <td>0.163254</td>\n",
              "      <td>2.579309</td>\n",
              "    </tr>\n",
              "    <tr>\n",
              "      <th>min</th>\n",
              "      <td>2.009091e+09</td>\n",
              "      <td>1.000000</td>\n",
              "      <td>1.000000</td>\n",
              "      <td>1.000000</td>\n",
              "      <td>1.000000</td>\n",
              "      <td>0.000000</td>\n",
              "      <td>-28.000000</td>\n",
              "      <td>0.000000</td>\n",
              "      <td>2009.000000</td>\n",
              "    </tr>\n",
              "    <tr>\n",
              "      <th>25%</th>\n",
              "      <td>2.011102e+09</td>\n",
              "      <td>6.000000</td>\n",
              "      <td>2.000000</td>\n",
              "      <td>1.000000</td>\n",
              "      <td>30.000000</td>\n",
              "      <td>3.000000</td>\n",
              "      <td>0.000000</td>\n",
              "      <td>0.000000</td>\n",
              "      <td>2011.000000</td>\n",
              "    </tr>\n",
              "    <tr>\n",
              "      <th>50%</th>\n",
              "      <td>2.013112e+09</td>\n",
              "      <td>12.000000</td>\n",
              "      <td>3.000000</td>\n",
              "      <td>2.000000</td>\n",
              "      <td>50.000000</td>\n",
              "      <td>9.000000</td>\n",
              "      <td>1.000000</td>\n",
              "      <td>0.000000</td>\n",
              "      <td>2013.000000</td>\n",
              "    </tr>\n",
              "    <tr>\n",
              "      <th>75%</th>\n",
              "      <td>2.015121e+09</td>\n",
              "      <td>18.000000</td>\n",
              "      <td>4.000000</td>\n",
              "      <td>3.000000</td>\n",
              "      <td>70.000000</td>\n",
              "      <td>10.000000</td>\n",
              "      <td>7.000000</td>\n",
              "      <td>0.000000</td>\n",
              "      <td>2015.000000</td>\n",
              "    </tr>\n",
              "    <tr>\n",
              "      <th>max</th>\n",
              "      <td>2.017123e+09</td>\n",
              "      <td>35.000000</td>\n",
              "      <td>5.000000</td>\n",
              "      <td>4.000000</td>\n",
              "      <td>99.000000</td>\n",
              "      <td>40.000000</td>\n",
              "      <td>98.000000</td>\n",
              "      <td>1.000000</td>\n",
              "      <td>2017.000000</td>\n",
              "    </tr>\n",
              "  </tbody>\n",
              "</table>\n",
              "</div>"
            ],
            "text/plain": [
              "            game_id         drive           qtr          down   yrd_line100  \\\n",
              "count  1.000000e+04  10000.000000  10000.000000  10000.000000  10000.000000   \n",
              "mean   2.013197e+09     12.385100      2.574800      2.001764     48.762520   \n",
              "std    2.573354e+06      7.257194      1.141111      0.920859     25.015031   \n",
              "min    2.009091e+09      1.000000      1.000000      1.000000      1.000000   \n",
              "25%    2.011102e+09      6.000000      2.000000      1.000000     30.000000   \n",
              "50%    2.013112e+09     12.000000      3.000000      2.000000     50.000000   \n",
              "75%    2.015121e+09     18.000000      4.000000      3.000000     70.000000   \n",
              "max    2.017123e+09     35.000000      5.000000      4.000000     99.000000   \n",
              "\n",
              "          yrds_togo   yrds_gained    touch_down        season  \n",
              "count  10000.000000  10000.000000  10000.000000  10000.000000  \n",
              "mean       7.329600      4.814000      0.027400   2013.057700  \n",
              "std        4.873514      8.761819      0.163254      2.579309  \n",
              "min        0.000000    -28.000000      0.000000   2009.000000  \n",
              "25%        3.000000      0.000000      0.000000   2011.000000  \n",
              "50%        9.000000      1.000000      0.000000   2013.000000  \n",
              "75%       10.000000      7.000000      0.000000   2015.000000  \n",
              "max       40.000000     98.000000      1.000000   2017.000000  "
            ]
          },
          "metadata": {
            "tags": []
          },
          "execution_count": 92
        }
      ]
    },
    {
      "metadata": {
        "id": "cW7ry0_hS2Rf",
        "colab_type": "text"
      },
      "cell_type": "markdown",
      "source": [
        "standard deviation of the \"Drive\" column using numpy"
      ]
    },
    {
      "metadata": {
        "id": "ziGWph52JE3T",
        "colab_type": "code",
        "outputId": "09d854aa-34db-4ea6-c1fb-a3798be79083",
        "colab": {
          "base_uri": "https://localhost:8080/",
          "height": 34
        }
      },
      "cell_type": "code",
      "source": [
        "#calculating standard deviation with numpy\n",
        "import numpy as np\n",
        "np.std(nfl.drive)"
      ],
      "execution_count": 0,
      "outputs": [
        {
          "output_type": "execute_result",
          "data": {
            "text/plain": [
              "7.256831125911639"
            ]
          },
          "metadata": {
            "tags": []
          },
          "execution_count": 93
        }
      ]
    },
    {
      "metadata": {
        "id": "gIqgR1_uSr8c",
        "colab_type": "text"
      },
      "cell_type": "markdown",
      "source": [
        "standard deviations away from the mean for  a value of 20 Drives"
      ]
    },
    {
      "metadata": {
        "id": "5B8C-zC2P-8g",
        "colab_type": "code",
        "outputId": "478bc605-6786-459f-f6ad-68d5ec4b83b2",
        "colab": {
          "base_uri": "https://localhost:8080/",
          "height": 34
        }
      },
      "cell_type": "code",
      "source": [
        "#standard deviation\n",
        "v = (20-np.mean(nfl.drive))**2\n",
        "s  = v**0.5\n",
        "s\n"
      ],
      "execution_count": 0,
      "outputs": [
        {
          "output_type": "execute_result",
          "data": {
            "text/plain": [
              "7.6149000000000004"
            ]
          },
          "metadata": {
            "tags": []
          },
          "execution_count": 100
        }
      ]
    },
    {
      "metadata": {
        "id": "LeL2IhT-TF5N",
        "colab_type": "text"
      },
      "cell_type": "markdown",
      "source": [
        "corresponding standard score (z-score) for a value of 20 Drives"
      ]
    },
    {
      "metadata": {
        "id": "_f-hg0U1Jv05",
        "colab_type": "code",
        "outputId": "2eadd029-e819-4d39-bb07-7c461f0bcc23",
        "colab": {
          "base_uri": "https://localhost:8080/",
          "height": 34
        }
      },
      "cell_type": "code",
      "source": [
        "#standard score for 20 drives\n",
        "(20- np.mean(nfl.drive))/np.std(nfl.drive)"
      ],
      "execution_count": 0,
      "outputs": [
        {
          "output_type": "execute_result",
          "data": {
            "text/plain": [
              "1.0493423186891895"
            ]
          },
          "metadata": {
            "tags": []
          },
          "execution_count": 94
        }
      ]
    },
    {
      "metadata": {
        "id": "wMpoCWGfOgF3",
        "colab_type": "code",
        "colab": {}
      },
      "cell_type": "code",
      "source": [
        ""
      ],
      "execution_count": 0,
      "outputs": []
    }
  ]
}