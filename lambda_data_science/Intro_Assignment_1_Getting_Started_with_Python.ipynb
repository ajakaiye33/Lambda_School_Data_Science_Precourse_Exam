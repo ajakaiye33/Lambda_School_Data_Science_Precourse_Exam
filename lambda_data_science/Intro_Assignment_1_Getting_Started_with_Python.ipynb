{
  "nbformat": 4,
  "nbformat_minor": 0,
  "metadata": {
    "colab": {
      "name": "Intro Assignment 1 - Getting Started with Python.ipynb",
      "version": "0.3.2",
      "provenance": [],
      "collapsed_sections": []
    },
    "kernelspec": {
      "name": "python3",
      "display_name": "Python 3"
    }
  },
  "cells": [
    {
      "metadata": {
        "id": "51dZwqDNc9x6",
        "colab_type": "text"
      },
      "cell_type": "markdown",
      "source": [
        "# Lambda School Data Science - Getting Started with Python\n",
        "\n",
        "Following are exercises you should complete after watching the first intro lecture. Workflow:\n",
        "\n",
        "1. Sign in to a Google account\n",
        "2. Copy the notebook (`File` -> `Save a copy in Drive`)\n",
        "3. Complete the exercises! This means fill out the code cells, and run them (shift-enter or click the play button that appears when you're in one of them)\n",
        "4. Take a look at your work, and write comments/add text cells as appropriate to explain\n",
        "5. Make the notebook URL viewable and submit with the standup form"
      ]
    },
    {
      "metadata": {
        "id": "I6biutgwdgpb",
        "colab_type": "text"
      },
      "cell_type": "markdown",
      "source": [
        "## Exercise 1 - A bit of Math\n",
        "\n",
        "For these \"word\" problems, use Python to clearly solve them. Your code will \"show your work\" - use good variable names! To show your answers you should write a `print()` statement at the end.\n",
        "\n",
        "As you work, follow the **20 minute rule** - that means if you're stuck on something for 20 minutes, you should ask a question!\n",
        "\n",
        "### a) It's a gas\n",
        "\n",
        "A taxi driver is calculating their profit over two weeks by adding up the fares they charge and subtracting the cost of gas. The price of gas changes over time - it was `$3.52`/gallon the first week and `$3.57`/gallon this second week. Their car gets 20 miles per gallon.\n",
        "\n",
        "For the first week the driver had a total of 23 passengers with average `$29` fare each, and drove a total of 160 miles. For the second week they had 17 passengers with average `$30` fare each, and drove a total of 220 miles. Assume that for both weeks they purchase all the gas needed during that week (i.e. they refuel every week to maintain a constant level of gas in the tank).\n",
        "\n",
        "Based on the above, answer the following questions:\n",
        "\n",
        "- What is their total profit over both weeks?\n",
        "- During which week was their average (mean) profit per passenger higher?\n"
      ]
    },
    {
      "metadata": {
        "id": "CWJeYQW6AoGf",
        "colab_type": "code",
        "outputId": "f9f01add-a0e6-4d32-aa35-6c341dba7f02",
        "colab": {
          "base_uri": "https://localhost:8080/",
          "height": 71
        }
      },
      "cell_type": "code",
      "source": [
        "# A) profit = revenue/sales - total cost\n",
        "# total cost derivation: \n",
        "no_of_gallon_used_week1 = 160/20\n",
        "total_amount_gas_week1 = 3.52 * no_of_gallon_used_week1\n",
        "no_of_gallon_used_week2 = 220/20\n",
        "total_amount_gas_week2 = 3.57 * no_of_gallon_used_week2\n",
        "grand_cost = float(total_amount_gas_week1) + float(total_amount_gas_week2)\n",
        "grand_cost\n",
        "# total_revenue derivation\n",
        "no_of_pass_week1 = 23\n",
        "no_of_pass_week2 = 17\n",
        "cost_per_ride_week1 = 29\n",
        "cost_per_ride_week2 = 30\n",
        "total_rev_from_ride_week1 = no_of_pass_week1 * cost_per_ride_week1\n",
        "total_rev_from_ride_week2 = no_of_pass_week2 * cost_per_ride_week2\n",
        "grand_rev = total_rev_from_ride_week1 + total_rev_from_ride_week2\n",
        "profit = grand_rev - grand_cost\n",
        "print(f'Their total profit over both week is {profit}')\n",
        "\n",
        "\n",
        "# B) Week with higher profit per passenger\n",
        "\n",
        "average_profit_per_pass_week1 =  round(profit/no_of_pass_week1, 2)\n",
        "average_profit_per_pass_week2 =  round(profit/no_of_pass_week1, 2)\n",
        "print(f\"The average profit per passenger in first week is {average_profit_per_pass_week1} whereas second week is {average_profit_per_pass_week2}. Therefore the average profit per passenger is higher in the second week\")\n"
      ],
      "execution_count": 0,
      "outputs": [
        {
          "output_type": "stream",
          "text": [
            "Their total profit over both week is 1109.57\n",
            "The average profit per passenger in first week is 48.24 whereas second week is 48.24. Therefore the average profit per passenger is higher in the second week\n"
          ],
          "name": "stdout"
        }
      ]
    },
    {
      "metadata": {
        "id": "0l4bUPHmR5Ko",
        "colab_type": "text"
      },
      "cell_type": "markdown",
      "source": [
        "### b) Mo' money...\n",
        "\n",
        "A cash drawer contains 160 bills, all 10s and 50s. The total value of the 10s and 50s is $1,760.\n",
        "\n",
        "How many of each type of bill are in the drawer? You can figure this out by trial and error (or by doing algebra with pencil and paper), but try to use loops and conditionals to check a plausible possibilities and stop when you find the correct one."
      ]
    },
    {
      "metadata": {
        "id": "Q2Atz_kyR8_6",
        "colab_type": "code",
        "colab": {}
      },
      "cell_type": "code",
      "source": [
        "# TODO your code here!"
      ],
      "execution_count": 0,
      "outputs": []
    },
    {
      "metadata": {
        "id": "UCFtX_q9aQlc",
        "colab_type": "text"
      },
      "cell_type": "markdown",
      "source": [
        "## Exercise 2 - Drawing a plot\n",
        "\n",
        "Use NumPy and Matplotlib to draw a scatterplot of uniform random `(x, y)` values all drawn from the `[0, 1]` interval. Helpful documentation:\n",
        "\n",
        "*   https://matplotlib.org/tutorials/index.html\n",
        "*   https://docs.scipy.org/doc/numpy/user/quickstart.html\n",
        "\n",
        "Stretch goal - draw more plots! You can refer to the [Matplotlib gallery](https://matplotlib.org/gallery.html) for inspiration, but don't just reproduce something - try to apply it to your own data.\n",
        "\n",
        "How to get data? There's *many* ways, but a good place to get started is with [sklearn.datasets](http://scikit-learn.org/stable/datasets/index.html):\n",
        "\n",
        "```\n",
        "from sklearn import datasets\n",
        "dir(datasets)\n",
        "```"
      ]
    },
    {
      "metadata": {
        "id": "pNEb09gMaltL",
        "colab_type": "code",
        "colab": {}
      },
      "cell_type": "code",
      "source": [
        "import matplotlib.pyplot as plt\n",
        "import numpy as np"
      ],
      "execution_count": 0,
      "outputs": []
    },
    {
      "metadata": {
        "id": "hGpFAslRhuem",
        "colab_type": "text"
      },
      "cell_type": "markdown",
      "source": [
        "## Exercise 3 - Writing a function\n",
        "Write a function that, given a list of numbers, calculates the mean, median, and mode of those numbers. Return a dictionary with properties for the mean, median and mode. \n",
        "\n",
        "For example:\n",
        "\n",
        "```\n",
        "mmm_dict = meanMedianMode([1, 2, 6, 7, 8, 9, 3, 4, 5, 10, 10])\n",
        "print(mmm_dict)\n",
        "> {'mean': 5.909090909090909, 'median': 6, 'mode': 10}\n",
        "```\n",
        "\n",
        "There are Python standard libraries that make calculating these numbers very easy, but first try your hand at implementing it using the `reduce()` function:"
      ]
    },
    {
      "metadata": {
        "id": "e8dmYzTmiXD_",
        "colab_type": "code",
        "outputId": "2060b5c4-63bb-47df-981f-514961e90b8e",
        "colab": {
          "base_uri": "https://localhost:8080/",
          "height": 221
        }
      },
      "cell_type": "code",
      "source": [
        "from functools import reduce\n",
        "from statistics import median\n",
        "from statistics import mode\n",
        "from statistics import mean\n",
        "help(reduce)"
      ],
      "execution_count": 0,
      "outputs": [
        {
          "output_type": "stream",
          "text": [
            "Help on built-in function reduce in module _functools:\n",
            "\n",
            "reduce(...)\n",
            "    reduce(function, sequence[, initial]) -> value\n",
            "    \n",
            "    Apply a function of two arguments cumulatively to the items of a sequence,\n",
            "    from left to right, so as to reduce the sequence to a single value.\n",
            "    For example, reduce(lambda x, y: x+y, [1, 2, 3, 4, 5]) calculates\n",
            "    ((((1+2)+3)+4)+5).  If initial is present, it is placed before the items\n",
            "    of the sequence in the calculation, and serves as a default when the\n",
            "    sequence is empty.\n",
            "\n"
          ],
          "name": "stdout"
        }
      ]
    },
    {
      "metadata": {
        "id": "nmkk-CHvh0Nj",
        "colab_type": "code",
        "outputId": "009ec46d-2a0d-4fb0-e791-73ce2b19c75a",
        "colab": {
          "base_uri": "https://localhost:8080/",
          "height": 34
        }
      },
      "cell_type": "code",
      "source": [
        "def meanMedianMode(numbers):\n",
        "    # TODO your code here!\n",
        "    dist = {}\n",
        "#mean1 = reduce(lambda x,y: x + y/len(numbers), numbers)\n",
        "    mean1 = mean(numbers)\n",
        "    mode2 = reduce(lambda a,b:a if a > b else b, set(numbers))\n",
        "    median3 = median(numbers)\n",
        "    dist['mean'] = mean1\n",
        "    dist['median'] = median3\n",
        "    dist['mode'] = mode2\n",
        "    return dist\n",
        "print(meanMedianMode([1, 2, 6, 7, 8, 9, 3, 4, 5, 10, 10]))"
      ],
      "execution_count": 0,
      "outputs": [
        {
          "output_type": "stream",
          "text": [
            "{'mean': 5.909090909090909, 'median': 6, 'mode': 10}\n"
          ],
          "name": "stdout"
        }
      ]
    },
    {
      "metadata": {
        "id": "0Bb2hMAAqBbU",
        "colab_type": "code",
        "colab": {}
      },
      "cell_type": "code",
      "source": [
        ""
      ],
      "execution_count": 0,
      "outputs": []
    }
  ]
}