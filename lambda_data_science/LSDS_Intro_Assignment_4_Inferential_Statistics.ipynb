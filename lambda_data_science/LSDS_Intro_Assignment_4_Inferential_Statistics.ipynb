{
  "nbformat": 4,
  "nbformat_minor": 0,
  "metadata": {
    "colab": {
      "name": " LSDS Intro Assignment 4 - Inferential Statistics.ipynb",
      "version": "0.3.2",
      "provenance": [],
      "collapsed_sections": []
    },
    "kernelspec": {
      "display_name": "Python 3",
      "language": "python",
      "name": "python3"
    }
  },
  "cells": [
    {
      "metadata": {
        "id": "LSwe_aflLNyk",
        "colab_type": "text"
      },
      "cell_type": "markdown",
      "source": [
        "# Lambda School, Intro to Data Science, Day 4\n",
        "\n",
        "## Inferential Statistics Assignment"
      ]
    },
    {
      "metadata": {
        "id": "i19U8PYQLNym",
        "colab_type": "code",
        "colab": {}
      },
      "cell_type": "code",
      "source": [
        "%matplotlib inline\n",
        "import matplotlib.pyplot as plt\n",
        "import pandas as pd\n",
        "import random\n",
        "from statistics import mean, stdev"
      ],
      "execution_count": 0,
      "outputs": []
    },
    {
      "metadata": {
        "id": "Gi1JCNi1LNyp",
        "colab_type": "text"
      },
      "cell_type": "markdown",
      "source": [
        "# Titanic\n",
        "\n",
        "Use the [`describe` function in pandas](https://pandas.pydata.org/pandas-docs/stable/generated/pandas.DataFrame.describe.html) to calculate summary statistics (including mean and standard deviation) for `age` and `fare`.\n",
        "\n",
        "Think, and be ready to discuss: How do these two features compare in their central tendency and in their spread?"
      ]
    },
    {
      "metadata": {
        "id": "r2ZTA_lILNyq",
        "colab_type": "code",
        "colab": {}
      },
      "cell_type": "code",
      "source": [
        "df = pd.read_csv('https://raw.githubusercontent.com/ryanleeallred/datasets/master/titanic.csv', index_col=0)\n",
        "features = ['age', 'fare']\n",
        "df.dropna(subset=features, inplace=True)"
      ],
      "execution_count": 0,
      "outputs": []
    },
    {
      "metadata": {
        "id": "N04bFF3PLNys",
        "colab_type": "code",
        "outputId": "6b9f8e26-3b7c-4eec-d7c3-2cb8876c1483",
        "colab": {
          "base_uri": "https://localhost:8080/",
          "height": 297
        }
      },
      "cell_type": "code",
      "source": [
        "df.describe()"
      ],
      "execution_count": 0,
      "outputs": [
        {
          "output_type": "execute_result",
          "data": {
            "text/html": [
              "<div>\n",
              "<style scoped>\n",
              "    .dataframe tbody tr th:only-of-type {\n",
              "        vertical-align: middle;\n",
              "    }\n",
              "\n",
              "    .dataframe tbody tr th {\n",
              "        vertical-align: top;\n",
              "    }\n",
              "\n",
              "    .dataframe thead th {\n",
              "        text-align: right;\n",
              "    }\n",
              "</style>\n",
              "<table border=\"1\" class=\"dataframe\">\n",
              "  <thead>\n",
              "    <tr style=\"text-align: right;\">\n",
              "      <th></th>\n",
              "      <th>survived</th>\n",
              "      <th>pclass</th>\n",
              "      <th>age</th>\n",
              "      <th>sibsp</th>\n",
              "      <th>parch</th>\n",
              "      <th>fare</th>\n",
              "    </tr>\n",
              "  </thead>\n",
              "  <tbody>\n",
              "    <tr>\n",
              "      <th>count</th>\n",
              "      <td>714.000000</td>\n",
              "      <td>714.000000</td>\n",
              "      <td>714.000000</td>\n",
              "      <td>714.000000</td>\n",
              "      <td>714.000000</td>\n",
              "      <td>714.000000</td>\n",
              "    </tr>\n",
              "    <tr>\n",
              "      <th>mean</th>\n",
              "      <td>0.406162</td>\n",
              "      <td>2.236695</td>\n",
              "      <td>29.699118</td>\n",
              "      <td>0.512605</td>\n",
              "      <td>0.431373</td>\n",
              "      <td>34.694514</td>\n",
              "    </tr>\n",
              "    <tr>\n",
              "      <th>std</th>\n",
              "      <td>0.491460</td>\n",
              "      <td>0.838250</td>\n",
              "      <td>14.526497</td>\n",
              "      <td>0.929783</td>\n",
              "      <td>0.853289</td>\n",
              "      <td>52.918930</td>\n",
              "    </tr>\n",
              "    <tr>\n",
              "      <th>min</th>\n",
              "      <td>0.000000</td>\n",
              "      <td>1.000000</td>\n",
              "      <td>0.420000</td>\n",
              "      <td>0.000000</td>\n",
              "      <td>0.000000</td>\n",
              "      <td>0.000000</td>\n",
              "    </tr>\n",
              "    <tr>\n",
              "      <th>25%</th>\n",
              "      <td>0.000000</td>\n",
              "      <td>1.000000</td>\n",
              "      <td>20.125000</td>\n",
              "      <td>0.000000</td>\n",
              "      <td>0.000000</td>\n",
              "      <td>8.050000</td>\n",
              "    </tr>\n",
              "    <tr>\n",
              "      <th>50%</th>\n",
              "      <td>0.000000</td>\n",
              "      <td>2.000000</td>\n",
              "      <td>28.000000</td>\n",
              "      <td>0.000000</td>\n",
              "      <td>0.000000</td>\n",
              "      <td>15.741700</td>\n",
              "    </tr>\n",
              "    <tr>\n",
              "      <th>75%</th>\n",
              "      <td>1.000000</td>\n",
              "      <td>3.000000</td>\n",
              "      <td>38.000000</td>\n",
              "      <td>1.000000</td>\n",
              "      <td>1.000000</td>\n",
              "      <td>33.375000</td>\n",
              "    </tr>\n",
              "    <tr>\n",
              "      <th>max</th>\n",
              "      <td>1.000000</td>\n",
              "      <td>3.000000</td>\n",
              "      <td>80.000000</td>\n",
              "      <td>5.000000</td>\n",
              "      <td>6.000000</td>\n",
              "      <td>512.329200</td>\n",
              "    </tr>\n",
              "  </tbody>\n",
              "</table>\n",
              "</div>"
            ],
            "text/plain": [
              "         survived      pclass         age       sibsp       parch        fare\n",
              "count  714.000000  714.000000  714.000000  714.000000  714.000000  714.000000\n",
              "mean     0.406162    2.236695   29.699118    0.512605    0.431373   34.694514\n",
              "std      0.491460    0.838250   14.526497    0.929783    0.853289   52.918930\n",
              "min      0.000000    1.000000    0.420000    0.000000    0.000000    0.000000\n",
              "25%      0.000000    1.000000   20.125000    0.000000    0.000000    8.050000\n",
              "50%      0.000000    2.000000   28.000000    0.000000    0.000000   15.741700\n",
              "75%      1.000000    3.000000   38.000000    1.000000    1.000000   33.375000\n",
              "max      1.000000    3.000000   80.000000    5.000000    6.000000  512.329200"
            ]
          },
          "metadata": {
            "tags": []
          },
          "execution_count": 72
        }
      ]
    },
    {
      "metadata": {
        "id": "BHZ6dFwIm1tz",
        "colab_type": "code",
        "outputId": "34088d80-2c45-4c14-9239-47f338d9260f",
        "colab": {
          "base_uri": "https://localhost:8080/",
          "height": 34
        }
      },
      "cell_type": "code",
      "source": [
        "df['age'].isnull().sum()"
      ],
      "execution_count": 0,
      "outputs": [
        {
          "output_type": "execute_result",
          "data": {
            "text/plain": [
              "0"
            ]
          },
          "metadata": {
            "tags": []
          },
          "execution_count": 73
        }
      ]
    },
    {
      "metadata": {
        "id": "yD5RtqTunW24",
        "colab_type": "code",
        "outputId": "a1e292b8-efde-4521-fa6b-eedff256185d",
        "colab": {
          "base_uri": "https://localhost:8080/",
          "height": 34
        }
      },
      "cell_type": "code",
      "source": [
        "df['age'].isnull().sum()"
      ],
      "execution_count": 0,
      "outputs": [
        {
          "output_type": "execute_result",
          "data": {
            "text/plain": [
              "0"
            ]
          },
          "metadata": {
            "tags": []
          },
          "execution_count": 74
        }
      ]
    },
    {
      "metadata": {
        "id": "LZHQh9wfIVrT",
        "colab_type": "code",
        "outputId": "0c2a5768-11c0-44a1-a6ac-dc6ab672205a",
        "colab": {
          "base_uri": "https://localhost:8080/",
          "height": 34
        }
      },
      "cell_type": "code",
      "source": [
        "#coefficient of variation of age\n",
        "\n",
        "coef_var_age = df['age'].std()/df['age'].mean()\n",
        "coef_var_age"
      ],
      "execution_count": 0,
      "outputs": [
        {
          "output_type": "execute_result",
          "data": {
            "text/plain": [
              "0.4891221855465675"
            ]
          },
          "metadata": {
            "tags": []
          },
          "execution_count": 75
        }
      ]
    },
    {
      "metadata": {
        "id": "kBAfOQnCLAqI",
        "colab_type": "code",
        "outputId": "4d1bed43-d08d-469b-ea3b-83ffbc451d5e",
        "colab": {
          "base_uri": "https://localhost:8080/",
          "height": 34
        }
      },
      "cell_type": "code",
      "source": [
        "# coefficient of variation of Fare\n",
        "coef_var_fare = df['fare'].std()/df['fare'].mean()\n",
        "coef_var_fare"
      ],
      "execution_count": 0,
      "outputs": [
        {
          "output_type": "execute_result",
          "data": {
            "text/plain": [
              "1.525282339853458"
            ]
          },
          "metadata": {
            "tags": []
          },
          "execution_count": 76
        }
      ]
    },
    {
      "metadata": {
        "id": "oteoBbkvBtoP",
        "colab_type": "text"
      },
      "cell_type": "markdown",
      "source": [
        "We can say that the distrubution of the age is close to the mean as its CV is less than 1 whereas for the fare data the stdev is large as the CV is greater than 1 therefore this mean that the fare value arent close to  the mean hence unpredictable"
      ]
    },
    {
      "metadata": {
        "id": "dfFb3yzjLNyu",
        "colab_type": "text"
      },
      "cell_type": "markdown",
      "source": [
        "Plot histograms for both features.\n",
        "\n",
        "Think, and be ready to discuss: What do you notice about the shape of these distributions?"
      ]
    },
    {
      "metadata": {
        "id": "K2M9twlfLNyu",
        "colab_type": "code",
        "outputId": "43d85a23-9006-466d-f3d7-7eadfcbb5375",
        "colab": {
          "base_uri": "https://localhost:8080/",
          "height": 267
        }
      },
      "cell_type": "code",
      "source": [
        "histo_fare = plt.hist(df['fare'])\n",
        "histo_fare;\n"
      ],
      "execution_count": 0,
      "outputs": [
        {
          "output_type": "display_data",
          "data": {
            "image/png": "[encoded data removed]",
            "text/plain": [
              "<matplotlib.figure.Figure at 0x7f91e0c256a0>"
            ]
          },
          "metadata": {
            "tags": []
          }
        }
      ]
    },
    {
      "metadata": {
        "id": "He1QDkWXLNyw",
        "colab_type": "code",
        "outputId": "7b6c96c3-6666-462e-c32a-12bc8124d667",
        "colab": {
          "base_uri": "https://localhost:8080/",
          "height": 265
        }
      },
      "cell_type": "code",
      "source": [
        "histo_age = plt.hist(df['age'])\n",
        "histo_age;"
      ],
      "execution_count": 0,
      "outputs": [
        {
          "output_type": "display_data",
          "data": {
            "image/png": "[encoded data removed]",
            "text/plain": [
              "<matplotlib.figure.Figure at 0x7f91e0baa208>"
            ]
          },
          "metadata": {
            "tags": []
          }
        }
      ]
    },
    {
      "metadata": {
        "id": "fygMaIUtPdcm",
        "colab_type": "text"
      },
      "cell_type": "markdown",
      "source": [
        "From the histogram we can see that the age is tending towards the normal bell curve whereas the fare display a non normal distribution"
      ]
    },
    {
      "metadata": {
        "id": "5cXkMdm-LNyz",
        "colab_type": "text"
      },
      "cell_type": "markdown",
      "source": [
        "# Clumsy Carl\n",
        "\n",
        "Re-do the Clumsy Carl problem -- but suppose that Carl broke **2** of 5 dishes. What's the p-value?\n",
        "\n",
        "Think, and be ready to discuss: Would you reject the null hypothesis?\n",
        "\n",
        "Suggestion: You can look at the lecture notebook, but **don't copy-paste** from it!\n",
        "\n",
        "> You must type each of these exercises in, manually. If you copy and paste, you might as well not even do them. The point of these exercises is to train your hands, your brain, and your mind in how to read, write, and see code. If you copy-paste, you are cheating yourself out of the effectiveness of the lessons. —*[Learn Python the Hard Way](https://learnpythonthehardway.org/book/intro.html)*\n",
        "\n",
        "---\n",
        "\n",
        "Here's the problem restated:\n",
        "\n",
        "Imagine a restaurant employs five dishwashers:\n",
        "- Alice\n",
        "- Bob\n",
        "- Carl\n",
        "- Dave\n",
        "- Eric\n",
        "\n",
        "One week, they break five dishes -- and Carl breaks **two** of the five. So, his coworkers have a hypothesis: Carl is clumsy!\n",
        "\n",
        "Carl says no, it was just bad luck and random chance: it could have happened to anybody. We can call this the null hypothesis.\n",
        "\n",
        "Can we do some math to help answer this argument? What's the probability it was just bad luck?\n",
        "\n",
        "We can write a Monte Carlo simulation to estimate the probability that Carl breaks at least four of the five dishes, assuming that breaking a dish is a truly random event. (We'll assume that the dishwashers have identical workloads and skills.)\n"
      ]
    },
    {
      "metadata": {
        "id": "5IdSBJnmLNy0",
        "colab_type": "code",
        "outputId": "2bde6c94-de04-4689-f013-43002793a546",
        "colab": {
          "base_uri": "https://localhost:8080/",
          "height": 265
        }
      },
      "cell_type": "code",
      "source": [
        "def checky():\n",
        "    dishwashers = ['Alice', 'Bob', 'Carl', 'Dave', 'Eric']\n",
        "    breakers = [random.choice(dishwashers)for _ in range(5)]\n",
        "    return breakers.count('Carl')\n",
        "  \n",
        "checks = [checky() for _ in range(100000)]\n",
        "plt.hist(checks);"
      ],
      "execution_count": 0,
      "outputs": [
        {
          "output_type": "display_data",
          "data": {
            "image/png": "[encoded data removed]",
            "text/plain": [
              "<matplotlib.figure.Figure at 0x7f91e0e95320>"
            ]
          },
          "metadata": {
            "tags": []
          }
        }
      ]
    },
    {
      "metadata": {
        "id": "etpy-I1ILNy2",
        "colab_type": "code",
        "outputId": "4009f7bc-d1f8-4475-a088-6c0a68b14e05",
        "colab": {
          "base_uri": "https://localhost:8080/",
          "height": 34
        }
      },
      "cell_type": "code",
      "source": [
        "\n",
        "# the mean number of dishes broken by Carl and the standard deviation\n",
        "mean(checks), stdev(checks)"
      ],
      "execution_count": 0,
      "outputs": [
        {
          "output_type": "execute_result",
          "data": {
            "text/plain": [
              "(0.99794, 0.8941273684646447)"
            ]
          },
          "metadata": {
            "tags": []
          },
          "execution_count": 80
        }
      ]
    },
    {
      "metadata": {
        "id": "2LmBMCD3PHgC",
        "colab_type": "code",
        "outputId": "fbe82e04-60ab-4786-fb7b-7777a62f77b5",
        "colab": {
          "base_uri": "https://localhost:8080/",
          "height": 34
        }
      },
      "cell_type": "code",
      "source": [
        "#The standard score of Carl  breaking 2 dishes\n",
        "stand_score = (2 - mean(checks))/stdev(checks)\n",
        "stand_score"
      ],
      "execution_count": 0,
      "outputs": [
        {
          "output_type": "execute_result",
          "data": {
            "text/plain": [
              "1.1207128149099075"
            ]
          },
          "metadata": {
            "tags": []
          },
          "execution_count": 81
        }
      ]
    },
    {
      "metadata": {
        "id": "iA8F5tzhSwpq",
        "colab_type": "code",
        "outputId": "7f763144-fec8-4c46-fdf5-6d1b0d3bcf3a",
        "colab": {
          "base_uri": "https://localhost:8080/",
          "height": 34
        }
      },
      "cell_type": "code",
      "source": [
        "#how often does Carl breaks 2 or more dishes\n",
        "\n",
        "see = sum([check >=2 for check in checks])\n",
        "see"
      ],
      "execution_count": 0,
      "outputs": [
        {
          "output_type": "execute_result",
          "data": {
            "text/plain": [
              "26206"
            ]
          },
          "metadata": {
            "tags": []
          },
          "execution_count": 82
        }
      ]
    },
    {
      "metadata": {
        "id": "Y6DMSznPW_9t",
        "colab_type": "code",
        "outputId": "cca2f427-8edb-4e7f-9d5c-a9f1754e9b36",
        "colab": {
          "base_uri": "https://localhost:8080/",
          "height": 34
        }
      },
      "cell_type": "code",
      "source": [
        "#P- value of the null hypothesis\n",
        "p_value = mean([check >=2 for check in checks])\n",
        "p_value"
      ],
      "execution_count": 0,
      "outputs": [
        {
          "output_type": "execute_result",
          "data": {
            "text/plain": [
              "0.26206"
            ]
          },
          "metadata": {
            "tags": []
          },
          "execution_count": 83
        }
      ]
    },
    {
      "metadata": {
        "id": "N7vCJVmZX2Qx",
        "colab_type": "text"
      },
      "cell_type": "markdown",
      "source": [
        "reject the P_value?"
      ]
    },
    {
      "metadata": {
        "id": "SGsaX3PrX7vw",
        "colab_type": "code",
        "outputId": "2661af78-d6d8-4602-d3ce-945c577f1b4d",
        "colab": {
          "base_uri": "https://localhost:8080/",
          "height": 34
        }
      },
      "cell_type": "code",
      "source": [
        "p_value < .05"
      ],
      "execution_count": 0,
      "outputs": [
        {
          "output_type": "execute_result",
          "data": {
            "text/plain": [
              "False"
            ]
          },
          "metadata": {
            "tags": []
          },
          "execution_count": 84
        }
      ]
    },
    {
      "metadata": {
        "id": "lbuNLuPVLNy4",
        "colab_type": "text"
      },
      "cell_type": "markdown",
      "source": [
        "# Two dice\n",
        "\n",
        "Simulate the distribution of adding two dice.\n",
        "\n",
        "What is the mean? Standard deviation?"
      ]
    },
    {
      "metadata": {
        "id": "L8GV5xA8W8zN",
        "colab_type": "code",
        "colab": {}
      },
      "cell_type": "code",
      "source": [
        "def test():\n",
        "  \"\"\"\n",
        "  Simulating the distribution of adding two dice\n",
        "  \"\"\"\n",
        "  return [random.randint(1,6)+ random.randint(1,6)for _ in range(100000)]\n",
        "dw = test()\n"
      ],
      "execution_count": 0,
      "outputs": []
    },
    {
      "metadata": {
        "id": "rhmaEpIN6AKt",
        "colab_type": "text"
      },
      "cell_type": "markdown",
      "source": [
        "What is the mean? Standard deviation?"
      ]
    },
    {
      "metadata": {
        "id": "Cn1yEJDQLNy5",
        "colab_type": "code",
        "outputId": "4c32c5c9-bd39-44cb-9db7-00c8c62621c3",
        "colab": {
          "base_uri": "https://localhost:8080/",
          "height": 34
        }
      },
      "cell_type": "code",
      "source": [
        "mean(dw), stdev(dw)"
      ],
      "execution_count": 0,
      "outputs": [
        {
          "output_type": "execute_result",
          "data": {
            "text/plain": [
              "(7.00219, 2.4236468275182848)"
            ]
          },
          "metadata": {
            "tags": []
          },
          "execution_count": 86
        }
      ]
    },
    {
      "metadata": {
        "id": "8Q0iMN5-LNy7",
        "colab_type": "text"
      },
      "cell_type": "markdown",
      "source": [
        "What is the standard score (z score) of rolling a 10?"
      ]
    },
    {
      "metadata": {
        "id": "9kOLJtxjLNy7",
        "colab_type": "code",
        "outputId": "b4cc9517-b580-407b-81fb-6596bee710d9",
        "colab": {
          "base_uri": "https://localhost:8080/",
          "height": 34
        }
      },
      "cell_type": "code",
      "source": [
        "stan_score_10 = (10 - mean(dw))/stdev(dw)\n",
        "stan_score_10"
      ],
      "execution_count": 0,
      "outputs": [
        {
          "output_type": "execute_result",
          "data": {
            "text/plain": [
              "1.2369005112306874"
            ]
          },
          "metadata": {
            "tags": []
          },
          "execution_count": 87
        }
      ]
    },
    {
      "metadata": {
        "id": "OXVQVpV0LNy-",
        "colab_type": "text"
      },
      "cell_type": "markdown",
      "source": [
        "What is the probability of rolling a 10 or higher?"
      ]
    },
    {
      "metadata": {
        "id": "YfWhW40YLNy_",
        "colab_type": "code",
        "outputId": "8354da88-add0-484f-bac1-2dd5239a389c",
        "colab": {
          "base_uri": "https://localhost:8080/",
          "height": 34
        }
      },
      "cell_type": "code",
      "source": [
        "p_of_roll_10 = sum([dwy >=10for dwy in dw])\n",
        "p_of_roll_10"
      ],
      "execution_count": 0,
      "outputs": [
        {
          "output_type": "execute_result",
          "data": {
            "text/plain": [
              "16750"
            ]
          },
          "metadata": {
            "tags": []
          },
          "execution_count": 88
        }
      ]
    },
    {
      "metadata": {
        "id": "p8zeToPqLNzB",
        "colab_type": "text"
      },
      "cell_type": "markdown",
      "source": [
        "# Harvest"
      ]
    },
    {
      "metadata": {
        "id": "xf08Iq7uLNzC",
        "colab_type": "text"
      },
      "cell_type": "markdown",
      "source": [
        "Using bootstrap resampling, calculate the 95% confidence interval for mean apple weight ..."
      ]
    },
    {
      "metadata": {
        "id": "9pjuLKH5LNzC",
        "colab_type": "code",
        "colab": {}
      },
      "cell_type": "code",
      "source": [
        "def bootstrap_sample(items):\n",
        "    # Random resample *with replacement*\n",
        "    return random.choices(items, k=len(items))\n",
        "\n",
        "def percentile(x, p):\n",
        "    # x: List of numbers\n",
        "    # p: Percentile, between 0 and 100\n",
        "    i = round(len(x) * p/100)\n",
        "    return sorted(x)[i]\n",
        "\n",
        "apples = [.5, .4, .5, .6, .3, .7]"
      ],
      "execution_count": 0,
      "outputs": []
    },
    {
      "metadata": {
        "id": "CI3vqMuSp0DQ",
        "colab_type": "code",
        "colab": {}
      },
      "cell_type": "code",
      "source": [
        "boo_apple = bootstrap_sample(apples)"
      ],
      "execution_count": 0,
      "outputs": []
    },
    {
      "metadata": {
        "id": "khfyPC0ULNzD",
        "colab_type": "code",
        "outputId": "9e23ad61-08a3-46fc-984d-d8cdee699962",
        "colab": {
          "base_uri": "https://localhost:8080/",
          "height": 265
        }
      },
      "cell_type": "code",
      "source": [
        "effect_sizes = [mean(bootstrap_sample(apples)) - mean(bootstrap_sample(boo_apple))for _ in range(10000)]\n",
        "plt.hist(effect_sizes);\n"
      ],
      "execution_count": 0,
      "outputs": [
        {
          "output_type": "display_data",
          "data": {
            "image/png": "[encoded data removed]",
            "text/plain": [
              "<matplotlib.figure.Figure at 0x7f91e0b1ff28>"
            ]
          },
          "metadata": {
            "tags": []
          }
        }
      ]
    },
    {
      "metadata": {
        "id": "3NJ_1kSk5_ux",
        "colab_type": "code",
        "outputId": "f2841559-2146-4e01-b22e-fccefe7952a2",
        "colab": {
          "base_uri": "https://localhost:8080/",
          "height": 34
        }
      },
      "cell_type": "code",
      "source": [
        "# 95 percentil confidence interval of apples\n",
        "percentile(effect_sizes, 95)"
      ],
      "execution_count": 0,
      "outputs": [
        {
          "output_type": "execute_result",
          "data": {
            "text/plain": [
              "0.09999999999999998"
            ]
          },
          "metadata": {
            "tags": []
          },
          "execution_count": 92
        }
      ]
    },
    {
      "metadata": {
        "id": "iqy2TS9p9dsu",
        "colab_type": "code",
        "colab": {}
      },
      "cell_type": "code",
      "source": [
        ""
      ],
      "execution_count": 0,
      "outputs": []
    },
    {
      "metadata": {
        "id": "xsqjoIYJLNzH",
        "colab_type": "text"
      },
      "cell_type": "markdown",
      "source": [
        "... and for mean pumpkin weight:"
      ]
    },
    {
      "metadata": {
        "id": "nqXdG9hQLNzH",
        "colab_type": "code",
        "colab": {}
      },
      "cell_type": "code",
      "source": [
        "pumpkins = [1, 1, 1, 3, 3, 591]"
      ],
      "execution_count": 0,
      "outputs": []
    },
    {
      "metadata": {
        "id": "c65JnpNHLNzI",
        "colab_type": "code",
        "colab": {}
      },
      "cell_type": "code",
      "source": [
        "boo_pumpkins = bootstrap_sample(pumpkins)\n",
        "\n"
      ],
      "execution_count": 0,
      "outputs": []
    },
    {
      "metadata": {
        "id": "EEmf5FNkIKGB",
        "colab_type": "code",
        "colab": {}
      },
      "cell_type": "code",
      "source": [
        "effect_size2 = [mean(bootstrap_sample(boo_pumpkins))- mean(bootstrap_sample(pumpkins))for _ in range(10000)]\n"
      ],
      "execution_count": 0,
      "outputs": []
    },
    {
      "metadata": {
        "id": "2qFpXlPPG5qM",
        "colab_type": "code",
        "outputId": "d634d5b8-be91-455a-bb9b-461bc094263f",
        "colab": {
          "base_uri": "https://localhost:8080/",
          "height": 34
        }
      },
      "cell_type": "code",
      "source": [
        "# The 95 confidence interval for pumpkins\n",
        "percentile(effect_size2, 95)"
      ],
      "execution_count": 0,
      "outputs": [
        {
          "output_type": "execute_result",
          "data": {
            "text/plain": [
              "1.3333333333333333"
            ]
          },
          "metadata": {
            "tags": []
          },
          "execution_count": 96
        }
      ]
    },
    {
      "metadata": {
        "id": "xBnuo8BcHP2y",
        "colab_type": "code",
        "colab": {}
      },
      "cell_type": "code",
      "source": [
        ""
      ],
      "execution_count": 0,
      "outputs": []
    }
  ]
}