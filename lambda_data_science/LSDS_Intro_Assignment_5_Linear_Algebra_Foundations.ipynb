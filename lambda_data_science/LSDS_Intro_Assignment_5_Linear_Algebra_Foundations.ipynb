{
  "nbformat": 4,
  "nbformat_minor": 0,
  "metadata": {
    "colab": {
      "name": "LSDS Intro Assignment 5 - Linear Algebra Foundations.ipynb",
      "version": "0.3.2",
      "provenance": [],
      "collapsed_sections": []
    },
    "kernelspec": {
      "name": "python3",
      "display_name": "Python 3"
    }
  },
  "cells": [
    {
      "metadata": {
        "id": "C6GiJ7ixeOOU",
        "colab_type": "text"
      },
      "cell_type": "markdown",
      "source": [
        "#Intro to Data Science Assignment 5\n",
        "##Linear Algebra Foundations\n",
        "\n",
        "For the short answers:\n",
        "     Feel free to do any additional research, but try your best to answer the questions in your own words (don't copy/paste).\n",
        "     \n",
        "For the computations by hand:\n",
        "      If you'd like to use LaTex to make things pretty, by all means give it a try, but it is *optional*. You can answer the questions using algebraic-like notation. For instance if I was adding two vectors:\n",
        "      \n",
        "[1,2] + [2,3] => (1+2), (2+3) => [3,5] \n",
        "\n",
        "**Show your work, not just the answer**\n",
        "\n",
        "For the graphs:\n",
        "   Make them as pretty as you like\n",
        "   \n",
        " For using the tools (numpy):\n",
        "    Use labeled print statements as shown"
      ]
    },
    {
      "metadata": {
        "id": "yJJdtDoVeiYV",
        "colab_type": "text"
      },
      "cell_type": "markdown",
      "source": [
        "#Short Answer Questions\n",
        "\n",
        "1) Describe a vector\n",
        "\n",
        "2) Describe a matrix\n",
        "\n",
        "3) What can we do with vectors?\n",
        "\n",
        "4) What are basis vectors?\n",
        "\n",
        "5) What is an inverse matrix?\n",
        "\n",
        "6) What is the transpose of a matrix?\n"
      ]
    },
    {
      "metadata": {
        "id": "J2okSel_f1lS",
        "colab_type": "text"
      },
      "cell_type": "markdown",
      "source": [
        "##Your Answers go here:\n",
        "\n",
        "1) A vector is an arrow in a space characterise with magnitude and direction\n",
        "\n",
        "2) Matrix is a collection of numbers arrange in rows and column\n",
        "\n",
        "3) Vector can be used to make graphical representation\n",
        "\n",
        "4) Inverse is the multiplication of the determinant of the original matrix and  its adjugate\n",
        "\n",
        "5) Transpose is the rearrangement of an original matrix such its rows, in the new matrix become a column and its column become rows in the new matrix \n",
        "\n",
        "6)The transpose of a matrix is essentilly turning/flipping a colum matrix to row matrix for individual columns"
      ]
    },
    {
      "metadata": {
        "id": "Lb-jyiXZgHfH",
        "colab_type": "text"
      },
      "cell_type": "markdown",
      "source": [
        "#Computations by hand\n",
        "\n",
        "1) $ \\begin {bmatrix} 1 \\\\ 3 \\\\ 4 \\end {bmatrix} + \\begin {bmatrix} 4 \\\\ 2 \\\\ 6 \\end {bmatrix} $\n",
        "\n",
        "2) $ 5 \\begin {bmatrix} 1 \\\\ 2 \\\\ 3 \\end{bmatrix} $\n",
        "\n",
        "3) $ \\begin {bmatrix} 1  &  3\\\\ 2 & 3  \\end{bmatrix} \\begin {bmatrix} 1 \\\\ 2 \\end{bmatrix} $\n",
        "\n",
        "4) $ \\begin {bmatrix} 1  &  3\\\\ 2 & 3 \\end{bmatrix} \\begin {bmatrix} 2 & 2 \\\\ 3 & 1 \\end{bmatrix} $\n",
        "\n",
        "5) What is the transpose of :\n",
        "\n",
        "$ \\begin{bmatrix} 1 & 4 \\\\ 2 & 5 \\\\ 3 & 6 \\end{bmatrix} $ \n",
        "\n",
        "6) What is the determinant of:\n",
        "\n",
        " $\\begin {bmatrix} 2 & 2 \\\\ 3 & 1 \\end{bmatrix}$\n",
        " \n",
        " 7) What is the inverse matrix of: \n",
        " \n",
        "  $\\begin {bmatrix} 3 & 2 \\\\ 1 & 2 \\end{bmatrix}$"
      ]
    },
    {
      "metadata": {
        "id": "LdnLfusWjcZQ",
        "colab_type": "text"
      },
      "cell_type": "markdown",
      "source": [
        "## Your Answers go here:\n",
        "\n",
        "1) $\\begin{bmatrix}\n",
        "5\\\\ \n",
        "5\\\\ \n",
        "10\n",
        "\\end {bmatrix}$\n",
        "\n",
        "2)$\\begin{bmatrix}\n",
        "5\\\\\n",
        "10\\\\\n",
        "15\n",
        "\\end{bmatrix}$\n",
        "\n",
        "3)$\\begin{bmatrix}\n",
        "5\\\\\n",
        "9\n",
        "\\end {bmatrix}$\n",
        "\n",
        "4) $\\begin{bmatrix} 6 & 7 \\\\ 12 & 15 \\end{bmatrix}$\n",
        "\n",
        "5) $ \\begin{bmatrix} 1&2&3\\\\ 4&5&6\\end{bmatrix}$\n",
        "\n",
        "6) -4\n",
        "\n",
        "7)$ \\begin{bmatrix} -0.5 & 0.5\\\\ 0.25 & -0.75\\end{bmatrix}$"
      ]
    },
    {
      "metadata": {
        "id": "B7q5osaBjo10",
        "colab_type": "text"
      },
      "cell_type": "markdown",
      "source": [
        "##Visualize the Vectors\n",
        "\n",
        "Graph the following:\n",
        "\n",
        "  Vector v_1 = [1,0] \n",
        "  \n",
        "  Vector v_2 = v_1 scaled by 2\n",
        "  \n",
        "  Vector v_3 = [0,-1]\n",
        "  \n",
        "  Vector v_4 = the sum of v_2 and v_3\n",
        " "
      ]
    },
    {
      "metadata": {
        "id": "uy65IMqbeNKw",
        "colab_type": "code",
        "outputId": "8b29a35c-d0af-4043-f35d-caaf0dc121ae",
        "colab": {
          "base_uri": "https://localhost:8080/",
          "height": 368
        }
      },
      "cell_type": "code",
      "source": [
        "# Visualize the vectors graph goes here\n",
        "import matplotlib.pyplot as plt\n",
        "v_1 = [1,0]\n",
        "plt.axis([-2, 2,-2, 2])\n",
        "plt.arrow(0, 0, v_1[0],v_1[1], head_width=.02, head_length=0.01, color = 'r', alpha=.7)\n",
        "plt.show()\n",
        "v_1"
      ],
      "execution_count": 0,
      "outputs": [
        {
          "output_type": "display_data",
          "data": {
            "image/png": "[encoded data removed]",
            "text/plain": [
              "<matplotlib.figure.Figure at 0x7f4139e4dd30>"
            ]
          },
          "metadata": {
            "tags": []
          }
        },
        {
          "output_type": "execute_result",
          "data": {
            "text/plain": [
              "[1, 0]"
            ]
          },
          "metadata": {
            "tags": []
          },
          "execution_count": 7
        }
      ]
    },
    {
      "metadata": {
        "id": "Xrf2qVHg8NnL",
        "colab_type": "code",
        "outputId": "390f464b-a27e-4761-f9f0-cb4ec0d5c9f7",
        "colab": {
          "base_uri": "https://localhost:8080/",
          "height": 368
        }
      },
      "cell_type": "code",
      "source": [
        "plt.axis([-2, 2, -2, 2])\n",
        "# plt.axhline(y=0, color='k')\n",
        "# plt.axvline(x=0, color='k')\n",
        "grow_v_1 = list(map(lambda v: v*2,v_1))\n",
        "extend_v_1 = plt.arrow(0,0, grow_v_1[0], grow_v_1[1], head_width=.02,\n",
        "head_length=0.01, color = 'b', alpha = .7)\n",
        "plt.show()\n",
        "grow_v_1\n"
      ],
      "execution_count": 0,
      "outputs": [
        {
          "output_type": "display_data",
          "data": {
            "image/png": "[encoded data removed]",
            "text/plain": [
              "<matplotlib.figure.Figure at 0x7f41375d41d0>"
            ]
          },
          "metadata": {
            "tags": []
          }
        },
        {
          "output_type": "execute_result",
          "data": {
            "text/plain": [
              "[2, 0]"
            ]
          },
          "metadata": {
            "tags": []
          },
          "execution_count": 8
        }
      ]
    },
    {
      "metadata": {
        "id": "M7dRdpDO3DWC",
        "colab_type": "code",
        "outputId": "64fb616f-6123-469d-8e13-50ce333d544f",
        "colab": {
          "base_uri": "https://localhost:8080/",
          "height": 368
        }
      },
      "cell_type": "code",
      "source": [
        "plt.axis([-2, 2, -2, 2])\n",
        "v_3 = [0,-1]\n",
        "plt.arrow(0,0, v_3[0], v_3[1], head_width=.02,head_length=0.01, color = 'r', alpha = .7)\n",
        "plt.show()\n",
        "v_3"
      ],
      "execution_count": 0,
      "outputs": [
        {
          "output_type": "display_data",
          "data": {
            "image/png": "[encoded data removed]",
            "text/plain": [
              "<matplotlib.figure.Figure at 0x7f4137569780>"
            ]
          },
          "metadata": {
            "tags": []
          }
        },
        {
          "output_type": "execute_result",
          "data": {
            "text/plain": [
              "[0, -1]"
            ]
          },
          "metadata": {
            "tags": []
          },
          "execution_count": 9
        }
      ]
    },
    {
      "metadata": {
        "id": "jW0-CX4o-ktQ",
        "colab_type": "code",
        "outputId": "5e2a1fe1-4a54-453a-8261-bd87660fa36d",
        "colab": {
          "base_uri": "https://localhost:8080/",
          "height": 368
        }
      },
      "cell_type": "code",
      "source": [
        "plt.axis([-3, 3,-3,3])\n",
        "def add_vector(v1,v2):\n",
        "  new_one = list(map(lambda a,b:a+b, v1,v2))\n",
        "  return new_one\n",
        "\n",
        "com_vec = add_vector(v_3,grow_v_1)\n",
        "plt.arrow(0,0, com_vec[0], com_vec[1], head_width=.20, head_length=.25,color = 'r', alpha = .5)\n",
        "plt.show()\n",
        "com_vec"
      ],
      "execution_count": 0,
      "outputs": [
        {
          "output_type": "display_data",
          "data": {
            "image/png": "[encoded data removed]",
            "text/plain": [
              "<matplotlib.figure.Figure at 0x7f4137596400>"
            ]
          },
          "metadata": {
            "tags": []
          }
        },
        {
          "output_type": "execute_result",
          "data": {
            "text/plain": [
              "[2, -1]"
            ]
          },
          "metadata": {
            "tags": []
          },
          "execution_count": 10
        }
      ]
    },
    {
      "metadata": {
        "id": "jWDov3LvlF9C",
        "colab_type": "text"
      },
      "cell_type": "markdown",
      "source": [
        "## Graph the Matrix\n",
        "\n",
        "Graph the columns and rows of this matrix: \n",
        " $\\begin {bmatrix} 2 & 2 \\\\ 3 & 1 \\end{bmatrix}$"
      ]
    },
    {
      "metadata": {
        "id": "Vru0b8zOlEUQ",
        "colab_type": "code",
        "outputId": "4d8d6105-b84c-47dd-9695-df82014c777e",
        "colab": {
          "base_uri": "https://localhost:8080/",
          "height": 385
        }
      },
      "cell_type": "code",
      "source": [
        "# Matrix graph goes here\n",
        "import numpy as np\n",
        "m_b = np.matrix('2 2;3 1')\n",
        "plt.axis([0,12,0,12])\n",
        "plt.arrow(0,0, m_b[0,0], m_b[0,1], head_width =.1, head_length=.25, color='red')\n",
        "plt.arrow(0,0, m_b[1,0], m_b[1,1], head_width =.1, head_length=.25, color='blue')\n",
        "plt.fill([0,3,7,4], [0,2,7,6], color = 'black')\n",
        "\n",
        "print(m_b)\n"
      ],
      "execution_count": 0,
      "outputs": [
        {
          "output_type": "stream",
          "text": [
            "[[2 2]\n",
            " [3 1]]\n"
          ],
          "name": "stdout"
        },
        {
          "output_type": "display_data",
          "data": {
            "image/png": "[encoded data removed]",
            "text/plain": [
              "<matplotlib.figure.Figure at 0x7f41374757f0>"
            ]
          },
          "metadata": {
            "tags": []
          }
        }
      ]
    },
    {
      "metadata": {
        "id": "QbBhyPwhlggH",
        "colab_type": "text"
      },
      "cell_type": "markdown",
      "source": [
        "## Using the tools: NumPy Edition\n",
        "\n",
        "Use the NumPy library to compute the \"Computations by Hand\" section. Make sure to print each answer and label your print statement"
      ]
    },
    {
      "metadata": {
        "id": "JcjUoEANlf8Q",
        "colab_type": "code",
        "outputId": "ac5ea0f4-bb09-43af-a203-18c18031773c",
        "colab": {
          "base_uri": "https://localhost:8080/",
          "height": 85
        }
      },
      "cell_type": "code",
      "source": [
        "# Code goes here\n",
        "# Example of labeling your print statement\n",
        "\n",
        "# v_0 = [1,2]\n",
        "# print('v_0 =', v_0)\n",
        "m_a = np.matrix('1;3;4')\n",
        "m_b = np.matrix('4;2;6')\n",
        "m_c = m_a + m_b\n",
        "print('number 1\\n', m_c)"
      ],
      "execution_count": 0,
      "outputs": [
        {
          "output_type": "stream",
          "text": [
            "number 1\n",
            " [[ 5]\n",
            " [ 5]\n",
            " [10]]\n"
          ],
          "name": "stdout"
        }
      ]
    },
    {
      "metadata": {
        "id": "WPrrvNKGOYMW",
        "colab_type": "code",
        "outputId": "898c0d49-61ad-4dad-f97a-a3de46d27bf3",
        "colab": {
          "base_uri": "https://localhost:8080/",
          "height": 85
        }
      },
      "cell_type": "code",
      "source": [
        "m_2a = np.matrix('1;2;3')\n",
        "m_2c = 5 * m_2a\n",
        "print('number 2\\n',m_2c)"
      ],
      "execution_count": 0,
      "outputs": [
        {
          "output_type": "stream",
          "text": [
            "number 2\n",
            " [[ 5]\n",
            " [10]\n",
            " [15]]\n"
          ],
          "name": "stdout"
        }
      ]
    },
    {
      "metadata": {
        "id": "nCISTrn3PJ6c",
        "colab_type": "code",
        "outputId": "3ee421cd-c55d-4064-ad7f-5d3c12555f63",
        "colab": {
          "base_uri": "https://localhost:8080/",
          "height": 68
        }
      },
      "cell_type": "code",
      "source": [
        "m_3a = np.matrix('1 2;3 3')\n",
        "m_3b = np.matrix('1;2')\n",
        "m_3c = np.matmul(m_3a, m_3b)\n",
        "print('number 3\\n', m_3c)"
      ],
      "execution_count": 0,
      "outputs": [
        {
          "output_type": "stream",
          "text": [
            "number 3\n",
            " [[5]\n",
            " [9]]\n"
          ],
          "name": "stdout"
        }
      ]
    },
    {
      "metadata": {
        "id": "kpZFHs4bQUJ_",
        "colab_type": "code",
        "outputId": "e9508a81-bf42-492f-b45f-0e124ba0f525",
        "colab": {
          "base_uri": "https://localhost:8080/",
          "height": 68
        }
      },
      "cell_type": "code",
      "source": [
        "m_4a = np.matrix('1 2;3 3')\n",
        "m_4b = np.matrix('2 3;2 2')\n",
        "m_4c = m_4a * m_4b\n",
        "print('number 4\\n', m_4c)"
      ],
      "execution_count": 0,
      "outputs": [
        {
          "output_type": "stream",
          "text": [
            "number 4\n",
            " [[ 6  7]\n",
            " [12 15]]\n"
          ],
          "name": "stdout"
        }
      ]
    },
    {
      "metadata": {
        "id": "o-LjZCDYSfoH",
        "colab_type": "code",
        "outputId": "5581faf7-c77b-4bb1-f5ab-9ff339bcd928",
        "colab": {
          "base_uri": "https://localhost:8080/",
          "height": 136
        }
      },
      "cell_type": "code",
      "source": [
        "m_5 = np.matrix('1,4;2 5;3 6')\n",
        "print('matrix\\n', m_5)\n",
        "print('matrix Transpose\\n', np.transpose(m_5))"
      ],
      "execution_count": 0,
      "outputs": [
        {
          "output_type": "stream",
          "text": [
            "matrix\n",
            " [[1 4]\n",
            " [2 5]\n",
            " [3 6]]\n",
            "matrix Transpose\n",
            " [[1 2 3]\n",
            " [4 5 6]]\n"
          ],
          "name": "stdout"
        }
      ]
    },
    {
      "metadata": {
        "id": "vQpEaQTsTrFF",
        "colab_type": "code",
        "outputId": "c3366b7d-b64d-4095-f6c6-ae0eb872ef71",
        "colab": {
          "base_uri": "https://localhost:8080/",
          "height": 102
        }
      },
      "cell_type": "code",
      "source": [
        "m_6 = np.matrix('2 2;3 1')\n",
        "print('matrix\\n', m_6)\n",
        "print('determinant matrix\\n', np.linalg.det(m_6))"
      ],
      "execution_count": 0,
      "outputs": [
        {
          "output_type": "stream",
          "text": [
            "matrix\n",
            " [[2 2]\n",
            " [3 1]]\n",
            "determinant matrix\n",
            " -4.000000000000001\n"
          ],
          "name": "stdout"
        }
      ]
    },
    {
      "metadata": {
        "id": "xu34UrnwVSTv",
        "colab_type": "code",
        "outputId": "5cf1a041-e6f3-4681-c8a6-f2c57df9b29b",
        "colab": {
          "base_uri": "https://localhost:8080/",
          "height": 119
        }
      },
      "cell_type": "code",
      "source": [
        "m_7 = np.matrix('2 3;1 2')\n",
        "print('matrix\\n', m_7)\n",
        "print('Matrix inverse\\n', np.linalg.inv(m_7))"
      ],
      "execution_count": 0,
      "outputs": [
        {
          "output_type": "stream",
          "text": [
            "matrix\n",
            " [[2 3]\n",
            " [1 2]]\n",
            "Matrix inverse\n",
            " [[ 2. -3.]\n",
            " [-1.  2.]]\n"
          ],
          "name": "stdout"
        }
      ]
    }
  ]
}