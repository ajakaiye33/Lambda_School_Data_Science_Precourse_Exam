{
  "nbformat": 4,
  "nbformat_minor": 0,
  "metadata": {
    "colab": {
      "name": " LSDS Intro Day 6 Assignment.ipynb",
      "version": "0.3.2",
      "provenance": []
    },
    "kernelspec": {
      "name": "python3",
      "display_name": "Python 3"
    }
  },
  "cells": [
    {
      "metadata": {
        "id": "ZBEbTcJDzUmY",
        "colab_type": "text"
      },
      "cell_type": "markdown",
      "source": [
        "#Linear Algebra Applications Assignment\n",
        "\n"
      ]
    },
    {
      "metadata": {
        "id": "eL5Phm9uvdMN",
        "colab_type": "text"
      },
      "cell_type": "markdown",
      "source": [
        "\n",
        "\n",
        "### Your data:\n",
        "\n",
        "**chirps_per_sec** = chirps/sec for the striped ground cricket\n",
        "\n",
        "**temperature** = temperature in degrees Fahrenheit\n",
        "\n",
        "Reference: The Song of Insects by Dr.G.W. Pierce, Harvard College Press"
      ]
    },
    {
      "metadata": {
        "id": "5gk0TM_HBZQH",
        "colab_type": "code",
        "colab": {}
      },
      "cell_type": "code",
      "source": [
        ""
      ],
      "execution_count": 0,
      "outputs": []
    },
    {
      "metadata": {
        "id": "98zwjiT6XgIu",
        "colab_type": "code",
        "outputId": "83b3f437-166a-4605-fbbd-a11a15e48f13",
        "colab": {
          "base_uri": "https://localhost:8080/",
          "height": 343
        }
      },
      "cell_type": "code",
      "source": [
        "!pip install xlrd\n",
        "import pandas as pd\n",
        "import matplotlib.pyplot as plt\n",
        "import numpy as np\n",
        "\n",
        "df = pd.read_excel('https://college.cengage.com/mathematics/brase/understandable_statistics/7e/students/datasets/slr/excel/slr02.xls')\n",
        "df = df.rename(columns={'X':'chirps_per_sec', 'Y':'temperature'})\n",
        "\n",
        "print(df.shape)\n",
        "df.head()"
      ],
      "execution_count": 0,
      "outputs": [
        {
          "output_type": "stream",
          "text": [
            "Collecting xlrd\n",
            "\u001b[?25l  Downloading https://files.pythonhosted.org/packages/07/e6/e95c4eec6221bfd8528bcc4ea252a850bffcc4be88ebc367e23a1a84b0bb/xlrd-1.1.0-py2.py3-none-any.whl (108kB)\n",
            "\u001b[K    100% |████████████████████████████████| 112kB 4.3MB/s \n",
            "\u001b[?25hInstalling collected packages: xlrd\n",
            "Successfully installed xlrd-1.1.0\n",
            "*** No CODEPAGE record, no encoding_override: will use 'ascii'\n",
            "(15, 2)\n"
          ],
          "name": "stdout"
        },
        {
          "output_type": "execute_result",
          "data": {
            "text/html": [
              "<div>\n",
              "<style scoped>\n",
              "    .dataframe tbody tr th:only-of-type {\n",
              "        vertical-align: middle;\n",
              "    }\n",
              "\n",
              "    .dataframe tbody tr th {\n",
              "        vertical-align: top;\n",
              "    }\n",
              "\n",
              "    .dataframe thead th {\n",
              "        text-align: right;\n",
              "    }\n",
              "</style>\n",
              "<table border=\"1\" class=\"dataframe\">\n",
              "  <thead>\n",
              "    <tr style=\"text-align: right;\">\n",
              "      <th></th>\n",
              "      <th>chirps_per_sec</th>\n",
              "      <th>temperature</th>\n",
              "    </tr>\n",
              "  </thead>\n",
              "  <tbody>\n",
              "    <tr>\n",
              "      <th>0</th>\n",
              "      <td>20.000000</td>\n",
              "      <td>88.599998</td>\n",
              "    </tr>\n",
              "    <tr>\n",
              "      <th>1</th>\n",
              "      <td>16.000000</td>\n",
              "      <td>71.599998</td>\n",
              "    </tr>\n",
              "    <tr>\n",
              "      <th>2</th>\n",
              "      <td>19.799999</td>\n",
              "      <td>93.300003</td>\n",
              "    </tr>\n",
              "    <tr>\n",
              "      <th>3</th>\n",
              "      <td>18.400000</td>\n",
              "      <td>84.300003</td>\n",
              "    </tr>\n",
              "    <tr>\n",
              "      <th>4</th>\n",
              "      <td>17.100000</td>\n",
              "      <td>80.599998</td>\n",
              "    </tr>\n",
              "  </tbody>\n",
              "</table>\n",
              "</div>"
            ],
            "text/plain": [
              "   chirps_per_sec  temperature\n",
              "0       20.000000    88.599998\n",
              "1       16.000000    71.599998\n",
              "2       19.799999    93.300003\n",
              "3       18.400000    84.300003\n",
              "4       17.100000    80.599998"
            ]
          },
          "metadata": {
            "tags": []
          },
          "execution_count": 2
        }
      ]
    },
    {
      "metadata": {
        "id": "5oZeVIg12QE2",
        "colab_type": "text"
      },
      "cell_type": "markdown",
      "source": [
        "## 1) Graph a scatterplot of chirps_per_sec vs temperature "
      ]
    },
    {
      "metadata": {
        "id": "AECb-XTY2Ydq",
        "colab_type": "code",
        "outputId": "ac3c056a-4a17-4d76-b3ba-64af7881eed3",
        "colab": {
          "base_uri": "https://localhost:8080/",
          "height": 361
        }
      },
      "cell_type": "code",
      "source": [
        "##### Your Code Here #####\n",
        "plt.scatter(df['chirps_per_sec'], df['temperature'])\n",
        "plt.xlabel('chirps_per_sec')\n",
        "plt.ylabel('temperature')\n",
        "plt.show()"
      ],
      "execution_count": 0,
      "outputs": [
        {
          "output_type": "display_data",
          "data": {
            "image/png": "[encoded data removed]",
            "text/plain": [
              "<matplotlib.figure.Figure at 0x7f372b5e7860>"
            ]
          },
          "metadata": {
            "tags": []
          }
        }
      ]
    },
    {
      "metadata": {
        "id": "2aWNZV0V2bEJ",
        "colab_type": "text"
      },
      "cell_type": "markdown",
      "source": [
        "## 2) Follow the steps below to compute the coefficients (intercept and slope) for the line of best fit:\n",
        "\n",
        "## 2.1) Use np.ones to add a column of ones to the dataframe"
      ]
    },
    {
      "metadata": {
        "id": "cRlmMxmi2p1V",
        "colab_type": "code",
        "outputId": "1bfd3739-6585-48aa-9a5d-1781d9f783d1",
        "colab": {
          "base_uri": "https://localhost:8080/",
          "height": 514
        }
      },
      "cell_type": "code",
      "source": [
        "##### Your Code Here #####\n",
        "df['ones'] = np.ones(15)\n",
        "df.head(15)\n",
        "\n"
      ],
      "execution_count": 0,
      "outputs": [
        {
          "output_type": "execute_result",
          "data": {
            "text/html": [
              "<div>\n",
              "<style scoped>\n",
              "    .dataframe tbody tr th:only-of-type {\n",
              "        vertical-align: middle;\n",
              "    }\n",
              "\n",
              "    .dataframe tbody tr th {\n",
              "        vertical-align: top;\n",
              "    }\n",
              "\n",
              "    .dataframe thead th {\n",
              "        text-align: right;\n",
              "    }\n",
              "</style>\n",
              "<table border=\"1\" class=\"dataframe\">\n",
              "  <thead>\n",
              "    <tr style=\"text-align: right;\">\n",
              "      <th></th>\n",
              "      <th>chirps_per_sec</th>\n",
              "      <th>temperature</th>\n",
              "      <th>ones</th>\n",
              "    </tr>\n",
              "  </thead>\n",
              "  <tbody>\n",
              "    <tr>\n",
              "      <th>0</th>\n",
              "      <td>20.000000</td>\n",
              "      <td>88.599998</td>\n",
              "      <td>1.0</td>\n",
              "    </tr>\n",
              "    <tr>\n",
              "      <th>1</th>\n",
              "      <td>16.000000</td>\n",
              "      <td>71.599998</td>\n",
              "      <td>1.0</td>\n",
              "    </tr>\n",
              "    <tr>\n",
              "      <th>2</th>\n",
              "      <td>19.799999</td>\n",
              "      <td>93.300003</td>\n",
              "      <td>1.0</td>\n",
              "    </tr>\n",
              "    <tr>\n",
              "      <th>3</th>\n",
              "      <td>18.400000</td>\n",
              "      <td>84.300003</td>\n",
              "      <td>1.0</td>\n",
              "    </tr>\n",
              "    <tr>\n",
              "      <th>4</th>\n",
              "      <td>17.100000</td>\n",
              "      <td>80.599998</td>\n",
              "      <td>1.0</td>\n",
              "    </tr>\n",
              "    <tr>\n",
              "      <th>5</th>\n",
              "      <td>15.500000</td>\n",
              "      <td>75.199997</td>\n",
              "      <td>1.0</td>\n",
              "    </tr>\n",
              "    <tr>\n",
              "      <th>6</th>\n",
              "      <td>14.700000</td>\n",
              "      <td>69.699997</td>\n",
              "      <td>1.0</td>\n",
              "    </tr>\n",
              "    <tr>\n",
              "      <th>7</th>\n",
              "      <td>17.100000</td>\n",
              "      <td>82.000000</td>\n",
              "      <td>1.0</td>\n",
              "    </tr>\n",
              "    <tr>\n",
              "      <th>8</th>\n",
              "      <td>15.400000</td>\n",
              "      <td>69.400002</td>\n",
              "      <td>1.0</td>\n",
              "    </tr>\n",
              "    <tr>\n",
              "      <th>9</th>\n",
              "      <td>16.200001</td>\n",
              "      <td>83.300003</td>\n",
              "      <td>1.0</td>\n",
              "    </tr>\n",
              "    <tr>\n",
              "      <th>10</th>\n",
              "      <td>15.000000</td>\n",
              "      <td>79.599998</td>\n",
              "      <td>1.0</td>\n",
              "    </tr>\n",
              "    <tr>\n",
              "      <th>11</th>\n",
              "      <td>17.200001</td>\n",
              "      <td>82.599998</td>\n",
              "      <td>1.0</td>\n",
              "    </tr>\n",
              "    <tr>\n",
              "      <th>12</th>\n",
              "      <td>16.000000</td>\n",
              "      <td>80.599998</td>\n",
              "      <td>1.0</td>\n",
              "    </tr>\n",
              "    <tr>\n",
              "      <th>13</th>\n",
              "      <td>17.000000</td>\n",
              "      <td>83.500000</td>\n",
              "      <td>1.0</td>\n",
              "    </tr>\n",
              "    <tr>\n",
              "      <th>14</th>\n",
              "      <td>14.400000</td>\n",
              "      <td>76.300003</td>\n",
              "      <td>1.0</td>\n",
              "    </tr>\n",
              "  </tbody>\n",
              "</table>\n",
              "</div>"
            ],
            "text/plain": [
              "    chirps_per_sec  temperature  ones\n",
              "0        20.000000    88.599998   1.0\n",
              "1        16.000000    71.599998   1.0\n",
              "2        19.799999    93.300003   1.0\n",
              "3        18.400000    84.300003   1.0\n",
              "4        17.100000    80.599998   1.0\n",
              "5        15.500000    75.199997   1.0\n",
              "6        14.700000    69.699997   1.0\n",
              "7        17.100000    82.000000   1.0\n",
              "8        15.400000    69.400002   1.0\n",
              "9        16.200001    83.300003   1.0\n",
              "10       15.000000    79.599998   1.0\n",
              "11       17.200001    82.599998   1.0\n",
              "12       16.000000    80.599998   1.0\n",
              "13       17.000000    83.500000   1.0\n",
              "14       14.400000    76.300003   1.0"
            ]
          },
          "metadata": {
            "tags": []
          },
          "execution_count": 4
        }
      ]
    },
    {
      "metadata": {
        "id": "OJfdQP9x2sI0",
        "colab_type": "text"
      },
      "cell_type": "markdown",
      "source": [
        "## 2.2) Create your X matrix from the 'ones' and 'temperature' columns"
      ]
    },
    {
      "metadata": {
        "id": "Xv86TNYh2z15",
        "colab_type": "code",
        "outputId": "b957bed0-d294-4dac-d882-1e4677a6e3be",
        "colab": {
          "base_uri": "https://localhost:8080/",
          "height": 272
        }
      },
      "cell_type": "code",
      "source": [
        "##### Your Code Here #####\n",
        "X = df[['ones', 'chirps_per_sec']].as_matrix()\n",
        "print(X)\n"
      ],
      "execution_count": 0,
      "outputs": [
        {
          "output_type": "stream",
          "text": [
            "[[ 1.         20.        ]\n",
            " [ 1.         16.        ]\n",
            " [ 1.         19.79999924]\n",
            " [ 1.         18.39999962]\n",
            " [ 1.         17.10000038]\n",
            " [ 1.         15.5       ]\n",
            " [ 1.         14.69999981]\n",
            " [ 1.         17.10000038]\n",
            " [ 1.         15.39999962]\n",
            " [ 1.         16.20000076]\n",
            " [ 1.         15.        ]\n",
            " [ 1.         17.20000076]\n",
            " [ 1.         16.        ]\n",
            " [ 1.         17.        ]\n",
            " [ 1.         14.39999962]]\n"
          ],
          "name": "stdout"
        }
      ]
    },
    {
      "metadata": {
        "id": "ynw-nyzF23Wj",
        "colab_type": "text"
      },
      "cell_type": "markdown",
      "source": [
        "## 2.3) Create your Y vector from the chips_per_sec column. (Make sure that it is formatted as a column vector.)"
      ]
    },
    {
      "metadata": {
        "id": "--prRurc3Buq",
        "colab_type": "code",
        "outputId": "e4309d9a-006f-493f-9081-f9ab9b47acc4",
        "colab": {
          "base_uri": "https://localhost:8080/",
          "height": 272
        }
      },
      "cell_type": "code",
      "source": [
        "##### Your Code Here #####\n",
        "Y = df['temperature'].as_matrix().reshape(-1,1)\n",
        "print(Y)"
      ],
      "execution_count": 0,
      "outputs": [
        {
          "output_type": "stream",
          "text": [
            "[[88.59999847]\n",
            " [71.59999847]\n",
            " [93.30000305]\n",
            " [84.30000305]\n",
            " [80.59999847]\n",
            " [75.19999695]\n",
            " [69.69999695]\n",
            " [82.        ]\n",
            " [69.40000153]\n",
            " [83.30000305]\n",
            " [79.59999847]\n",
            " [82.59999847]\n",
            " [80.59999847]\n",
            " [83.5       ]\n",
            " [76.30000305]]\n"
          ],
          "name": "stdout"
        }
      ]
    },
    {
      "metadata": {
        "id": "wf2VBvH5fM6i",
        "colab_type": "code",
        "colab": {}
      },
      "cell_type": "code",
      "source": [
        "# beta = np.matmul(np.linalg.inv(np.matmul(np.transpose(X), X)), np.matmul(np.transpose(X), Y))\n",
        "# beta"
      ],
      "execution_count": 0,
      "outputs": []
    },
    {
      "metadata": {
        "id": "m6x387_d3FJF",
        "colab_type": "text"
      },
      "cell_type": "markdown",
      "source": [
        "## 2.4) Calculate X_transpose and print the result: $X^{T}$ "
      ]
    },
    {
      "metadata": {
        "id": "9ifTSQu93NT7",
        "colab_type": "code",
        "outputId": "227a8e7d-c809-4917-d983-783ac2a4a261",
        "colab": {
          "base_uri": "https://localhost:8080/",
          "height": 119
        }
      },
      "cell_type": "code",
      "source": [
        "##### Your Code Here #####\n",
        "x_transpose = np.transpose(X)\n",
        "x_transpose"
      ],
      "execution_count": 0,
      "outputs": [
        {
          "output_type": "execute_result",
          "data": {
            "text/plain": [
              "array([[ 1.        ,  1.        ,  1.        ,  1.        ,  1.        ,\n",
              "         1.        ,  1.        ,  1.        ,  1.        ,  1.        ,\n",
              "         1.        ,  1.        ,  1.        ,  1.        ,  1.        ],\n",
              "       [20.        , 16.        , 19.79999924, 18.39999962, 17.10000038,\n",
              "        15.5       , 14.69999981, 17.10000038, 15.39999962, 16.20000076,\n",
              "        15.        , 17.20000076, 16.        , 17.        , 14.39999962]])"
            ]
          },
          "metadata": {
            "tags": []
          },
          "execution_count": 7
        }
      ]
    },
    {
      "metadata": {
        "id": "UXp5-eOH3QgG",
        "colab_type": "text"
      },
      "cell_type": "markdown",
      "source": [
        "## 2.5) Calculate X_transpose_X and print the result: $X^{T}X$"
      ]
    },
    {
      "metadata": {
        "id": "w6G8_DCw3Pw_",
        "colab_type": "code",
        "outputId": "5c774e28-f5a6-4f99-b9ce-b2bf506afda0",
        "colab": {
          "base_uri": "https://localhost:8080/",
          "height": 51
        }
      },
      "cell_type": "code",
      "source": [
        "##### Your Code Here #####\n",
        "x_transpose_x = np.matmul(x_transpose, X)\n",
        "print(x_transpose_x)"
      ],
      "execution_count": 0,
      "outputs": [
        {
          "output_type": "stream",
          "text": [
            "[[  15.          249.80000019]\n",
            " [ 249.80000019 4200.56000445]]\n"
          ],
          "name": "stdout"
        }
      ]
    },
    {
      "metadata": {
        "id": "maQVOiZ03fuj",
        "colab_type": "text"
      },
      "cell_type": "markdown",
      "source": [
        "## 2.6) Calculate the inverse of X_transpose_X and print the result: $(X^{T}X)^{-1}$ "
      ]
    },
    {
      "metadata": {
        "id": "htk9bCmN3zUT",
        "colab_type": "code",
        "outputId": "7f19249f-ce9b-463b-8fd4-2439f90b1e64",
        "colab": {
          "base_uri": "https://localhost:8080/",
          "height": 51
        }
      },
      "cell_type": "code",
      "source": [
        "##### Your Code Here #####\n",
        "inverse_x_transpose_x = np.linalg.inv(x_transpose_x)\n",
        "inverse_x_transpose_x"
      ],
      "execution_count": 0,
      "outputs": [
        {
          "output_type": "execute_result",
          "data": {
            "text/plain": [
              "array([[ 6.90472779, -0.41061216],\n",
              "       [-0.41061216,  0.02465645]])"
            ]
          },
          "metadata": {
            "tags": []
          },
          "execution_count": 9
        }
      ]
    },
    {
      "metadata": {
        "id": "jKEkWq-j30ty",
        "colab_type": "text"
      },
      "cell_type": "markdown",
      "source": [
        "## 2.7) An aside: Multiply the X_tranpose_X matrix against its inverse: $(X^{T}X)(X^{T}X)^{-1}$  Print the result. What is the name for the resulting matrix?"
      ]
    },
    {
      "metadata": {
        "id": "P5HWnZdS4A3u",
        "colab_type": "code",
        "outputId": "b5f2b5e6-56d7-4b4c-b1cc-bc208858261b",
        "colab": {
          "base_uri": "https://localhost:8080/",
          "height": 51
        }
      },
      "cell_type": "code",
      "source": [
        "##### Your Code Here #####\n",
        "ident = np.matmul(x_transpose_x, inverse_x_transpose_x)\n",
        "ident"
      ],
      "execution_count": 0,
      "outputs": [
        {
          "output_type": "execute_result",
          "data": {
            "text/plain": [
              "array([[1.00000000e+00, 5.27598130e-17],\n",
              "       [7.69789543e-14, 1.00000000e+00]])"
            ]
          },
          "metadata": {
            "tags": []
          },
          "execution_count": 10
        }
      ]
    },
    {
      "metadata": {
        "id": "vTKeP5s-KE3r",
        "colab_type": "text"
      },
      "cell_type": "markdown",
      "source": [
        "The resulting matrix is called a 2 by 2 Identity Matrix"
      ]
    },
    {
      "metadata": {
        "id": "aSbkbyT72QYW",
        "colab_type": "text"
      },
      "cell_type": "markdown",
      "source": [
        "## 2.8) Calculate X_transpose_Y and print the result: $X^{T}Y$"
      ]
    },
    {
      "metadata": {
        "id": "V_05w71-4RLh",
        "colab_type": "code",
        "outputId": "f976f170-ba5d-4758-f66d-a71e52c4a9b5",
        "colab": {
          "base_uri": "https://localhost:8080/",
          "height": 51
        }
      },
      "cell_type": "code",
      "source": [
        "##### Your Code Here #####\n",
        "x_transpose_y = np.matmul(x_transpose, Y)\n",
        "x_transpose_y"
      ],
      "execution_count": 0,
      "outputs": [
        {
          "output_type": "execute_result",
          "data": {
            "text/plain": [
              "array([[ 1200.59999845],\n",
              "       [20127.47000262]])"
            ]
          },
          "metadata": {
            "tags": []
          },
          "execution_count": 11
        }
      ]
    },
    {
      "metadata": {
        "id": "rJCc26lh2Qa9",
        "colab_type": "text"
      },
      "cell_type": "markdown",
      "source": [
        "## 2.9) Finally, calculate the Beta coefficients vector by multiplying the left and right halfs of the linear regression equation. Print the Beta vector: $\\beta = (X^{T}X)^{-1} X^{T}Y$  \n",
        "(You should have all of the parts to do this now)"
      ]
    },
    {
      "metadata": {
        "id": "yTLRwR2h4kaO",
        "colab_type": "code",
        "outputId": "f1500f96-014a-4f03-d1ce-022a729874cf",
        "colab": {
          "base_uri": "https://localhost:8080/",
          "height": 51
        }
      },
      "cell_type": "code",
      "source": [
        "##### Your Code Here #####\n",
        "beta_coefficient =  np.matmul(inverse_x_transpose_x, x_transpose_y)\n",
        "beta_coefficient"
      ],
      "execution_count": 0,
      "outputs": [
        {
          "output_type": "execute_result",
          "data": {
            "text/plain": [
              "array([[25.23230498],\n",
              "       [ 3.29109457]])"
            ]
          },
          "metadata": {
            "tags": []
          },
          "execution_count": 12
        }
      ]
    },
    {
      "metadata": {
        "id": "-51ZIa5OTKjH",
        "colab_type": "code",
        "outputId": "90574bb7-7949-49d9-9218-818c72619997",
        "colab": {
          "base_uri": "https://localhost:8080/",
          "height": 34
        }
      },
      "cell_type": "code",
      "source": [
        "beta_0 = beta_coefficient[0,0]\n",
        "beta_1 = beta_coefficient[1,0]\n",
        "beta_0,beta_1\n"
      ],
      "execution_count": 0,
      "outputs": [
        {
          "output_type": "execute_result",
          "data": {
            "text/plain": [
              "(25.23230498342673, 3.291094567947539)"
            ]
          },
          "metadata": {
            "tags": []
          },
          "execution_count": 13
        }
      ]
    },
    {
      "metadata": {
        "id": "m0YYw0WQ2Qeq",
        "colab_type": "text"
      },
      "cell_type": "markdown",
      "source": [
        "## 3) Graph the line of best fit through the scatterplot of the data points"
      ]
    },
    {
      "metadata": {
        "id": "txgLJSAF4Ptc",
        "colab_type": "code",
        "outputId": "fcee13bc-6378-48c3-9e15-bf11a9647811",
        "colab": {
          "base_uri": "https://localhost:8080/",
          "height": 361
        }
      },
      "cell_type": "code",
      "source": [
        "##### Your Code Here #####\n",
        "plt.scatter(df['chirps_per_sec'], df['temperature'])\n",
        "axes = plt.gca()\n",
        "x_val = np.array(axes.get_xlim())\n",
        "y_val2 = beta_0 + beta_1 * x_val\n",
        "plt.plot(x_val, y_val2, '-', color='b')\n",
        "plt.xlabel('Chirps_persec')\n",
        "plt.ylabel('Temperature')\n",
        "plt.show()"
      ],
      "execution_count": 0,
      "outputs": [
        {
          "output_type": "display_data",
          "data": {
            "image/png": "[encoded data removed]",
            "text/plain": [
              "<matplotlib.figure.Figure at 0x7f3727fd67b8>"
            ]
          },
          "metadata": {
            "tags": []
          }
        }
      ]
    },
    {
      "metadata": {
        "id": "aUcBfGgW2QhL",
        "colab_type": "text"
      },
      "cell_type": "markdown",
      "source": [
        "## 4) If a cricket has chirped 19 times in a second what is the predicted temperature? Plot this prediction as well."
      ]
    },
    {
      "metadata": {
        "id": "rbMZk1I8aMaL",
        "colab_type": "code",
        "outputId": "939dbfc0-e55b-4495-aa08-badd9a44049a",
        "colab": {
          "base_uri": "https://localhost:8080/",
          "height": 378
        }
      },
      "cell_type": "code",
      "source": [
        "# y = mx + b\n",
        "plt.scatter(df['chirps_per_sec'], df['temperature'])\n",
        "axes = plt.gca()\n",
        "x_val = np.array(axes.get_xlim())\n",
        "y_val2 = beta_0 + beta_1 * x_val\n",
        "plt.plot(x_val, y_val2, '-', color='b')\n",
        "y_val = [beta_1*19 + beta_0 for x in x_val]\n",
        "plt.plot(x_val, y_val, '-', color = 'r')\n",
        "plt.xlabel('Chirps_persec')\n",
        "plt.ylabel('Temperature')\n",
        "plt.show()\n",
        "print(f'The predicted temperature is {y_val}')"
      ],
      "execution_count": 0,
      "outputs": [
        {
          "output_type": "display_data",
          "data": {
            "image/png": "[encoded data removed]",
            "text/plain": [
              "<matplotlib.figure.Figure at 0x7f372800bda0>"
            ]
          },
          "metadata": {
            "tags": []
          }
        },
        {
          "output_type": "stream",
          "text": [
            "The predicted temperature is [87.76310177442997, 87.76310177442997]\n"
          ],
          "name": "stdout"
        }
      ]
    },
    {
      "metadata": {
        "id": "NTP8CSuQ0_qq",
        "colab_type": "text"
      },
      "cell_type": "markdown",
      "source": [
        "##Stretch Problem\n",
        "Let's add a 3rd dimension. \n",
        "\n",
        "X1 = systolic blood pressure\n",
        "\n",
        "X2 = age in years\n",
        "\n",
        "X3 = weight in pounds\n",
        "\n",
        "Compute the coefficients for the **plane** of best fit for\n",
        "\n",
        "$X_1 = \\beta_1X_2 + \\beta_2X_3 + \\beta_0$\n",
        "\n",
        "Then graph the plane in addition to the  datapoints in a **3D** graph.\n",
        "An article to get you started on [3D graphing](https://jakevdp.github.io/PythonDataScienceHandbook/04.12-three-dimensional-plotting.html)"
      ]
    },
    {
      "metadata": {
        "id": "wghLKfsz0_HX",
        "colab_type": "code",
        "outputId": "5f79b101-1e53-41f7-866d-836891c1d6a4",
        "colab": {
          "base_uri": "https://localhost:8080/",
          "height": 153
        }
      },
      "cell_type": "code",
      "source": [
        "s_data = pd.read_excel('https://college.cengage.com/mathematics/brase/understandable_statistics/7e/students/datasets/mlr/excel/mlr02.xls')\n",
        "print(s_data.head())\n",
        "s_data.shape"
      ],
      "execution_count": 0,
      "outputs": [
        {
          "output_type": "stream",
          "text": [
            "*** No CODEPAGE record, no encoding_override: will use 'ascii'\n",
            "    X1  X2   X3\n",
            "0  132  52  173\n",
            "1  143  59  184\n",
            "2  153  67  194\n",
            "3  162  73  211\n",
            "4  154  64  196\n"
          ],
          "name": "stdout"
        },
        {
          "output_type": "execute_result",
          "data": {
            "text/plain": [
              "(11, 3)"
            ]
          },
          "metadata": {
            "tags": []
          },
          "execution_count": 28
        }
      ]
    },
    {
      "metadata": {
        "id": "bIJP78xgrPR6",
        "colab_type": "code",
        "outputId": "bef5d5f4-1562-46b2-bd33-e0c5cce3794d",
        "colab": {
          "base_uri": "https://localhost:8080/",
          "height": 390
        }
      },
      "cell_type": "code",
      "source": [
        "s_data['ones'] = np.ones(11)\n",
        "s_data.head(11)"
      ],
      "execution_count": 0,
      "outputs": [
        {
          "output_type": "execute_result",
          "data": {
            "text/html": [
              "<div>\n",
              "<style scoped>\n",
              "    .dataframe tbody tr th:only-of-type {\n",
              "        vertical-align: middle;\n",
              "    }\n",
              "\n",
              "    .dataframe tbody tr th {\n",
              "        vertical-align: top;\n",
              "    }\n",
              "\n",
              "    .dataframe thead th {\n",
              "        text-align: right;\n",
              "    }\n",
              "</style>\n",
              "<table border=\"1\" class=\"dataframe\">\n",
              "  <thead>\n",
              "    <tr style=\"text-align: right;\">\n",
              "      <th></th>\n",
              "      <th>X1</th>\n",
              "      <th>X2</th>\n",
              "      <th>X3</th>\n",
              "      <th>ones</th>\n",
              "    </tr>\n",
              "  </thead>\n",
              "  <tbody>\n",
              "    <tr>\n",
              "      <th>0</th>\n",
              "      <td>132</td>\n",
              "      <td>52</td>\n",
              "      <td>173</td>\n",
              "      <td>1.0</td>\n",
              "    </tr>\n",
              "    <tr>\n",
              "      <th>1</th>\n",
              "      <td>143</td>\n",
              "      <td>59</td>\n",
              "      <td>184</td>\n",
              "      <td>1.0</td>\n",
              "    </tr>\n",
              "    <tr>\n",
              "      <th>2</th>\n",
              "      <td>153</td>\n",
              "      <td>67</td>\n",
              "      <td>194</td>\n",
              "      <td>1.0</td>\n",
              "    </tr>\n",
              "    <tr>\n",
              "      <th>3</th>\n",
              "      <td>162</td>\n",
              "      <td>73</td>\n",
              "      <td>211</td>\n",
              "      <td>1.0</td>\n",
              "    </tr>\n",
              "    <tr>\n",
              "      <th>4</th>\n",
              "      <td>154</td>\n",
              "      <td>64</td>\n",
              "      <td>196</td>\n",
              "      <td>1.0</td>\n",
              "    </tr>\n",
              "    <tr>\n",
              "      <th>5</th>\n",
              "      <td>168</td>\n",
              "      <td>74</td>\n",
              "      <td>220</td>\n",
              "      <td>1.0</td>\n",
              "    </tr>\n",
              "    <tr>\n",
              "      <th>6</th>\n",
              "      <td>137</td>\n",
              "      <td>54</td>\n",
              "      <td>188</td>\n",
              "      <td>1.0</td>\n",
              "    </tr>\n",
              "    <tr>\n",
              "      <th>7</th>\n",
              "      <td>149</td>\n",
              "      <td>61</td>\n",
              "      <td>188</td>\n",
              "      <td>1.0</td>\n",
              "    </tr>\n",
              "    <tr>\n",
              "      <th>8</th>\n",
              "      <td>159</td>\n",
              "      <td>65</td>\n",
              "      <td>207</td>\n",
              "      <td>1.0</td>\n",
              "    </tr>\n",
              "    <tr>\n",
              "      <th>9</th>\n",
              "      <td>128</td>\n",
              "      <td>46</td>\n",
              "      <td>167</td>\n",
              "      <td>1.0</td>\n",
              "    </tr>\n",
              "    <tr>\n",
              "      <th>10</th>\n",
              "      <td>166</td>\n",
              "      <td>72</td>\n",
              "      <td>217</td>\n",
              "      <td>1.0</td>\n",
              "    </tr>\n",
              "  </tbody>\n",
              "</table>\n",
              "</div>"
            ],
            "text/plain": [
              "     X1  X2   X3  ones\n",
              "0   132  52  173   1.0\n",
              "1   143  59  184   1.0\n",
              "2   153  67  194   1.0\n",
              "3   162  73  211   1.0\n",
              "4   154  64  196   1.0\n",
              "5   168  74  220   1.0\n",
              "6   137  54  188   1.0\n",
              "7   149  61  188   1.0\n",
              "8   159  65  207   1.0\n",
              "9   128  46  167   1.0\n",
              "10  166  72  217   1.0"
            ]
          },
          "metadata": {
            "tags": []
          },
          "execution_count": 32
        }
      ]
    },
    {
      "metadata": {
        "id": "9L4kn7-7tFoe",
        "colab_type": "code",
        "outputId": "d0734ac3-7e1c-4d6b-cee8-02a28ebf5604",
        "colab": {
          "base_uri": "https://localhost:8080/",
          "height": 204
        }
      },
      "cell_type": "code",
      "source": [
        "X = s_data[['ones', 'X2', 'X3']].as_matrix()\n",
        "print(X)"
      ],
      "execution_count": 0,
      "outputs": [
        {
          "output_type": "stream",
          "text": [
            "[[  1.  52. 173.]\n",
            " [  1.  59. 184.]\n",
            " [  1.  67. 194.]\n",
            " [  1.  73. 211.]\n",
            " [  1.  64. 196.]\n",
            " [  1.  74. 220.]\n",
            " [  1.  54. 188.]\n",
            " [  1.  61. 188.]\n",
            " [  1.  65. 207.]\n",
            " [  1.  46. 167.]\n",
            " [  1.  72. 217.]]\n"
          ],
          "name": "stdout"
        }
      ]
    },
    {
      "metadata": {
        "id": "cI3j9Ld1x2ZK",
        "colab_type": "code",
        "colab": {}
      },
      "cell_type": "code",
      "source": [
        "# Z = s_data[['ones','X3']].as_matrix()\n",
        "# print(Z)\n"
      ],
      "execution_count": 0,
      "outputs": []
    },
    {
      "metadata": {
        "id": "6tqxIVhAsGmn",
        "colab_type": "code",
        "outputId": "dc3c8303-f168-42b0-b0d5-bedf432b6120",
        "colab": {
          "base_uri": "https://localhost:8080/",
          "height": 204
        }
      },
      "cell_type": "code",
      "source": [
        "Y = s_data['X1'].as_matrix().reshape(-1,1)\n",
        "print(Y)"
      ],
      "execution_count": 0,
      "outputs": [
        {
          "output_type": "stream",
          "text": [
            "[[132]\n",
            " [143]\n",
            " [153]\n",
            " [162]\n",
            " [154]\n",
            " [168]\n",
            " [137]\n",
            " [149]\n",
            " [159]\n",
            " [128]\n",
            " [166]]\n"
          ],
          "name": "stdout"
        }
      ]
    },
    {
      "metadata": {
        "id": "i32DmZps601y",
        "colab_type": "code",
        "outputId": "cc882881-46a1-41ea-82f0-61653c4df375",
        "colab": {
          "base_uri": "https://localhost:8080/",
          "height": 68
        }
      },
      "cell_type": "code",
      "source": [
        "beta = np.matmul(np.linalg.inv(np.matmul(np.transpose(X), X)), np.matmul(np.transpose(X), Y))\n",
        "beta"
      ],
      "execution_count": 0,
      "outputs": [
        {
          "output_type": "execute_result",
          "data": {
            "text/plain": [
              "array([[30.99410295],\n",
              "       [ 0.86141469],\n",
              "       [ 0.3348592 ]])"
            ]
          },
          "metadata": {
            "tags": []
          },
          "execution_count": 55
        }
      ]
    },
    {
      "metadata": {
        "id": "oz8amsfw7vTX",
        "colab_type": "code",
        "colab": {}
      },
      "cell_type": "code",
      "source": [
        "# beta2 = np.matmul(np.linalg.inv(np.matmul(np.transpose(Z), Z)), np.matmul(np.transpose(Z), Y))\n",
        "# beta2"
      ],
      "execution_count": 0,
      "outputs": []
    },
    {
      "metadata": {
        "id": "TP1MzFFw8jnv",
        "colab_type": "code",
        "outputId": "771e4983-e9cc-4cc3-c019-85a506bf50ee",
        "colab": {
          "base_uri": "https://localhost:8080/",
          "height": 367
        }
      },
      "cell_type": "code",
      "source": [
        "from mpl_toolkits.mplot3d import Axes3D\n",
        "fig = plt.figure()\n",
        "ax = fig.add_subplot(111, projection='3d') \n",
        "ax.scatter(s_data['X3'], s_data['X1'], s_data['X2'], c='r', marker='o')\n",
        "ax.set_xlabel('weight')\n",
        "ax.set_ylabel('blood pressure')\n",
        "ax.set_zlabel('age')\n",
        "x_v = s_data['X2']\n",
        "z_v = s_data['X3']\n",
        "y_v = [beta[0,0]* x + beta[1,0] + beta[2,0] for x in x_v]\n",
        "y_v2 = [beta[0,0]* x + beta[1,0] + beta[2,0] for x in z_v]\n",
        "ax.plot(x_v, y_v, c='b' )\n",
        "plt.show();\n",
        "print(y_v,y_v2)"
      ],
      "execution_count": 0,
      "outputs": [
        {
          "output_type": "display_data",
          "data": {
            "image/png": "[encoded data removed]",
            "text/plain": [
              "<matplotlib.figure.Figure at 0x7f3728214978>"
            ]
          },
          "metadata": {
            "tags": []
          }
        },
        {
          "output_type": "stream",
          "text": [
            "[1612.8896274049225, 1829.8483480712498, 2077.8011716899096, 2263.7657894039044, 1984.8188628329121, 2294.759892356237, 1674.8778333095875, 1891.8365539759147, 2015.8129657852446, 1426.9250096909277, 2232.771686451572] [5363.176084637151, 5704.111217112808, 6014.052246636133, 6540.951996825785, 6076.040452540798, 6819.898923396777, 5828.087628922138, 5828.087628922138, 6416.975585016455, 5177.211466923156, 6726.916614539779]\n"
          ],
          "name": "stdout"
        }
      ]
    }
  ]
}